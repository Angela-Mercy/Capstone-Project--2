{
 "cells": [
  {
   "cell_type": "markdown",
   "id": "dfbf737c-d31b-4230-b1da-50639cc749d5",
   "metadata": {},
   "source": [
    "Pre-Processing and Training Data"
   ]
  },
  {
   "cell_type": "markdown",
   "id": "6aeea215-dbcb-4ab6-95d1-21d9ca567542",
   "metadata": {},
   "source": [
    "Now, the Car Crash 2022 in chicago city is going to be used for training the machine learning model. Training data refers to the data used to train the model, where the model learns the relationships between the features and the target variable."
   ]
  },
  {
   "cell_type": "markdown",
   "id": "b9f69ed7-5614-4a3a-99b3-eca055ba1e8f",
   "metadata": {},
   "source": [
    "Import - Libraries: will help to use the modules that contain functions, and methods"
   ]
  },
  {
   "cell_type": "code",
   "execution_count": 1,
   "id": "a92b673f-f1f6-49e2-b3b0-b73005fd2c33",
   "metadata": {},
   "outputs": [],
   "source": [
    "import os\n",
    "import pandas as pd\n",
    "from sklearn.model_selection import train_test_split,  cross_val_score\n",
    "from sklearn.ensemble import RandomForestClassifier, GradientBoostingClassifier\n",
    "from sklearn.preprocessing import LabelEncoder\n",
    "from sklearn.metrics import classification_report, accuracy_score\n",
    "from sklearn.preprocessing import StandardScaler\n"
   ]
  },
  {
   "cell_type": "markdown",
   "id": "5932e9da-0ac4-4efc-afce-963e46362882",
   "metadata": {},
   "source": []
  },
  {
   "cell_type": "markdown",
   "id": "1d0f9396-2fff-4bac-905f-e22ba609ec79",
   "metadata": {},
   "source": [
    "Load Data or Data Collection: Data collection is the process of gathering information from various formats. Here, the data is in a CSV file."
   ]
  },
  {
   "cell_type": "code",
   "execution_count": 2,
   "id": "aa46df6f-794e-4a24-b02e-9a5dfd120d7b",
   "metadata": {},
   "outputs": [],
   "source": [
    "#loading dataset in a new dataframe 'Car_Crash'\n",
    "Car_Crash = pd.read_csv('Crash_analyzed.csv')"
   ]
  },
  {
   "cell_type": "code",
   "execution_count": 3,
   "id": "61727b28-7484-49fa-b8d7-629011a49650",
   "metadata": {},
   "outputs": [
    {
     "data": {
      "text/html": [
       "<div>\n",
       "<style scoped>\n",
       "    .dataframe tbody tr th:only-of-type {\n",
       "        vertical-align: middle;\n",
       "    }\n",
       "\n",
       "    .dataframe tbody tr th {\n",
       "        vertical-align: top;\n",
       "    }\n",
       "\n",
       "    .dataframe thead th {\n",
       "        text-align: right;\n",
       "    }\n",
       "</style>\n",
       "<table border=\"1\" class=\"dataframe\">\n",
       "  <thead>\n",
       "    <tr style=\"text-align: right;\">\n",
       "      <th></th>\n",
       "      <th>CRASH_DATE</th>\n",
       "      <th>POSTED_SPEED_LIMIT</th>\n",
       "      <th>WEATHER_CONDITION</th>\n",
       "      <th>TRAFFICWAY_TYPE</th>\n",
       "      <th>ROADWAY_SURFACE_COND</th>\n",
       "      <th>STREET_DIRECTION</th>\n",
       "      <th>MOST_SEVERE_INJURY</th>\n",
       "      <th>CRASH_HOUR</th>\n",
       "      <th>CRASH_DAY_OF_WEEK</th>\n",
       "      <th>CRASH_MONTH</th>\n",
       "    </tr>\n",
       "  </thead>\n",
       "  <tbody>\n",
       "    <tr>\n",
       "      <th>0</th>\n",
       "      <td>2022-01-31</td>\n",
       "      <td>25</td>\n",
       "      <td>CLEAR</td>\n",
       "      <td>ONE-WAY</td>\n",
       "      <td>DRY</td>\n",
       "      <td>W</td>\n",
       "      <td>NO INDICATION OF INJURY</td>\n",
       "      <td>19</td>\n",
       "      <td>2</td>\n",
       "      <td>1</td>\n",
       "    </tr>\n",
       "    <tr>\n",
       "      <th>1</th>\n",
       "      <td>2022-01-01</td>\n",
       "      <td>10</td>\n",
       "      <td>SNOW</td>\n",
       "      <td>PARKING LOT</td>\n",
       "      <td>SNOW OR SLUSH</td>\n",
       "      <td>W</td>\n",
       "      <td>NO INDICATION OF INJURY</td>\n",
       "      <td>16</td>\n",
       "      <td>7</td>\n",
       "      <td>1</td>\n",
       "    </tr>\n",
       "    <tr>\n",
       "      <th>2</th>\n",
       "      <td>2022-01-30</td>\n",
       "      <td>25</td>\n",
       "      <td>CLEAR</td>\n",
       "      <td>ONE-WAY</td>\n",
       "      <td>SNOW OR SLUSH</td>\n",
       "      <td>W</td>\n",
       "      <td>NO INDICATION OF INJURY</td>\n",
       "      <td>8</td>\n",
       "      <td>1</td>\n",
       "      <td>1</td>\n",
       "    </tr>\n",
       "    <tr>\n",
       "      <th>3</th>\n",
       "      <td>2022-05-28</td>\n",
       "      <td>25</td>\n",
       "      <td>CLEAR</td>\n",
       "      <td>ONE-WAY</td>\n",
       "      <td>DRY</td>\n",
       "      <td>W</td>\n",
       "      <td>NO INDICATION OF INJURY</td>\n",
       "      <td>17</td>\n",
       "      <td>7</td>\n",
       "      <td>5</td>\n",
       "    </tr>\n",
       "    <tr>\n",
       "      <th>4</th>\n",
       "      <td>2022-04-16</td>\n",
       "      <td>10</td>\n",
       "      <td>CLEAR</td>\n",
       "      <td>PARKING LOT</td>\n",
       "      <td>DRY</td>\n",
       "      <td>W</td>\n",
       "      <td>NO INDICATION OF INJURY</td>\n",
       "      <td>11</td>\n",
       "      <td>7</td>\n",
       "      <td>4</td>\n",
       "    </tr>\n",
       "  </tbody>\n",
       "</table>\n",
       "</div>"
      ],
      "text/plain": [
       "   CRASH_DATE  POSTED_SPEED_LIMIT WEATHER_CONDITION TRAFFICWAY_TYPE  \\\n",
       "0  2022-01-31                  25             CLEAR         ONE-WAY   \n",
       "1  2022-01-01                  10              SNOW     PARKING LOT   \n",
       "2  2022-01-30                  25             CLEAR         ONE-WAY   \n",
       "3  2022-05-28                  25             CLEAR         ONE-WAY   \n",
       "4  2022-04-16                  10             CLEAR     PARKING LOT   \n",
       "\n",
       "  ROADWAY_SURFACE_COND STREET_DIRECTION       MOST_SEVERE_INJURY  CRASH_HOUR  \\\n",
       "0                  DRY                W  NO INDICATION OF INJURY          19   \n",
       "1        SNOW OR SLUSH                W  NO INDICATION OF INJURY          16   \n",
       "2        SNOW OR SLUSH                W  NO INDICATION OF INJURY           8   \n",
       "3                  DRY                W  NO INDICATION OF INJURY          17   \n",
       "4                  DRY                W  NO INDICATION OF INJURY          11   \n",
       "\n",
       "   CRASH_DAY_OF_WEEK  CRASH_MONTH  \n",
       "0                  2            1  \n",
       "1                  7            1  \n",
       "2                  1            1  \n",
       "3                  7            5  \n",
       "4                  7            4  "
      ]
     },
     "execution_count": 3,
     "metadata": {},
     "output_type": "execute_result"
    }
   ],
   "source": [
    "#To see the sample of five rows, use .head() method.\n",
    "Car_Crash.head()"
   ]
  },
  {
   "cell_type": "code",
   "execution_count": 4,
   "id": "c0eadfdb-4eb2-4b33-80e8-35b4ae71592d",
   "metadata": {},
   "outputs": [
    {
     "name": "stdout",
     "output_type": "stream",
     "text": [
      "<class 'pandas.core.frame.DataFrame'>\n",
      "RangeIndex: 5201 entries, 0 to 5200\n",
      "Data columns (total 10 columns):\n",
      " #   Column                Non-Null Count  Dtype \n",
      "---  ------                --------------  ----- \n",
      " 0   CRASH_DATE            5201 non-null   object\n",
      " 1   POSTED_SPEED_LIMIT    5201 non-null   int64 \n",
      " 2   WEATHER_CONDITION     5201 non-null   object\n",
      " 3   TRAFFICWAY_TYPE       5201 non-null   object\n",
      " 4   ROADWAY_SURFACE_COND  5201 non-null   object\n",
      " 5   STREET_DIRECTION      5201 non-null   object\n",
      " 6   MOST_SEVERE_INJURY    5201 non-null   object\n",
      " 7   CRASH_HOUR            5201 non-null   int64 \n",
      " 8   CRASH_DAY_OF_WEEK     5201 non-null   int64 \n",
      " 9   CRASH_MONTH           5201 non-null   int64 \n",
      "dtypes: int64(4), object(6)\n",
      "memory usage: 406.5+ KB\n"
     ]
    }
   ],
   "source": [
    "#To see columns names and dtype in Car_Crash\n",
    "Car_Crash.info()"
   ]
  },
  {
   "cell_type": "markdown",
   "id": "5521716c-c013-41ba-a288-4512045b1abc",
   "metadata": {},
   "source": [
    "If the Car_Crash dataset has 'CRASH_DATE' for this data training process, this insight won't be effective. So, drop this column from this dataset."
   ]
  },
  {
   "cell_type": "code",
   "execution_count": 5,
   "id": "ae1e655e-90e7-433e-a542-09ba5e71e650",
   "metadata": {},
   "outputs": [],
   "source": [
    "# Drop unnecessary columns\n",
    "Crash_data = Car_Crash.drop(columns=['CRASH_DATE'])\n"
   ]
  },
  {
   "cell_type": "code",
   "execution_count": 6,
   "id": "8007add2-0388-4e9f-9ea1-e50c702ecafb",
   "metadata": {},
   "outputs": [
    {
     "data": {
      "text/plain": [
       "(5201, 9)"
      ]
     },
     "execution_count": 6,
     "metadata": {},
     "output_type": "execute_result"
    }
   ],
   "source": [
    "#To see number of rows and columns in Crash_data \n",
    "Crash_data.shape"
   ]
  },
  {
   "cell_type": "markdown",
   "id": "398c7bf9-c620-4ff5-9d5d-77f6f1e82a12",
   "metadata": {},
   "source": [
    "Need to convert categorical data into numeric format for machine learning models. We will encode categorical features using the .fit_transform method in Label Encoders."
   ]
  },
  {
   "cell_type": "code",
   "execution_count": 7,
   "id": "14fcefd3-4128-4811-a56f-3b2f587c663c",
   "metadata": {},
   "outputs": [],
   "source": [
    "# Encode categorical features \n",
    "categorical_columns = ['WEATHER_CONDITION', 'TRAFFICWAY_TYPE', 'ROADWAY_SURFACE_COND', 'STREET_DIRECTION']"
   ]
  },
  {
   "cell_type": "markdown",
   "id": "b91ff53f-546c-4e05-a9b6-aacb2d442081",
   "metadata": {},
   "source": [
    "Dummy Variable:\n",
    "\n",
    "Converts the categorical columns into dummy variables."
   ]
  },
  {
   "cell_type": "code",
   "execution_count": 9,
   "id": "1956ba97-cfbd-4986-ad52-100745228946",
   "metadata": {},
   "outputs": [],
   "source": [
    "# Convert to dummy variables\n",
    "Crash_data = pd.get_dummies(Crash_data, columns=categorical_columns, drop_first=True)\n"
   ]
  },
  {
   "cell_type": "markdown",
   "id": "1049ad44-137e-4379-bcbb-c01a64ef20a7",
   "metadata": {},
   "source": [
    "Split Dataset:\n",
    "Splitting Dataset into features and target, stored in X, and Y variables. 'MOST_SEVERE_INJURY' is the target variable, the rest are features"
   ]
  },
  {
   "cell_type": "code",
   "execution_count": 10,
   "id": "b4d35a64-f611-4295-a1bb-919a9e9dfbb6",
   "metadata": {},
   "outputs": [],
   "source": [
    "# Define Numerical columns for scaling\n",
    "Numerical_columns = ['POSTED_SPEED_LIMIT', 'CRASH_HOUR', 'CRASH_DAY_OF_WEEK', 'CRASH_MONTH']\n"
   ]
  },
  {
   "cell_type": "code",
   "execution_count": 11,
   "id": "a454398e-c041-49a6-bd45-ce3d4014e663",
   "metadata": {},
   "outputs": [],
   "source": [
    "# Split dataset into features and target\n",
    "X = Crash_data.drop(columns=['MOST_SEVERE_INJURY'])\n",
    "y = Crash_data['MOST_SEVERE_INJURY']\n"
   ]
  },
  {
   "cell_type": "code",
   "execution_count": 12,
   "id": "df8c5f98-29ac-47bd-ab16-80a835d54754",
   "metadata": {},
   "outputs": [
    {
     "name": "stdout",
     "output_type": "stream",
     "text": [
      "<class 'pandas.core.frame.DataFrame'>\n",
      "RangeIndex: 5201 entries, 0 to 5200\n",
      "Data columns (total 42 columns):\n",
      " #   Column                                           Non-Null Count  Dtype\n",
      "---  ------                                           --------------  -----\n",
      " 0   POSTED_SPEED_LIMIT                               5201 non-null   int64\n",
      " 1   CRASH_HOUR                                       5201 non-null   int64\n",
      " 2   CRASH_DAY_OF_WEEK                                5201 non-null   int64\n",
      " 3   CRASH_MONTH                                      5201 non-null   int64\n",
      " 4   WEATHER_CONDITION_BLOWING SNOW                   5201 non-null   bool \n",
      " 5   WEATHER_CONDITION_CLEAR                          5201 non-null   bool \n",
      " 6   WEATHER_CONDITION_CLOUDY/OVERCAST                5201 non-null   bool \n",
      " 7   WEATHER_CONDITION_FOG/SMOKE/HAZE                 5201 non-null   bool \n",
      " 8   WEATHER_CONDITION_FREEZING RAIN/DRIZZLE          5201 non-null   bool \n",
      " 9   WEATHER_CONDITION_OTHER                          5201 non-null   bool \n",
      " 10  WEATHER_CONDITION_RAIN                           5201 non-null   bool \n",
      " 11  WEATHER_CONDITION_SEVERE CROSS WIND GATE         5201 non-null   bool \n",
      " 12  WEATHER_CONDITION_SLEET/HAIL                     5201 non-null   bool \n",
      " 13  WEATHER_CONDITION_SNOW                           5201 non-null   bool \n",
      " 14  WEATHER_CONDITION_UNKNOWN                        5201 non-null   bool \n",
      " 15  TRAFFICWAY_TYPE_CENTER TURN LANE                 5201 non-null   bool \n",
      " 16  TRAFFICWAY_TYPE_DIVIDED - W/MEDIAN (NOT RAISED)  5201 non-null   bool \n",
      " 17  TRAFFICWAY_TYPE_DIVIDED - W/MEDIAN BARRIER       5201 non-null   bool \n",
      " 18  TRAFFICWAY_TYPE_DRIVEWAY                         5201 non-null   bool \n",
      " 19  TRAFFICWAY_TYPE_FIVE POINT, OR MORE              5201 non-null   bool \n",
      " 20  TRAFFICWAY_TYPE_FOUR WAY                         5201 non-null   bool \n",
      " 21  TRAFFICWAY_TYPE_L-INTERSECTION                   5201 non-null   bool \n",
      " 22  TRAFFICWAY_TYPE_NOT DIVIDED                      5201 non-null   bool \n",
      " 23  TRAFFICWAY_TYPE_NOT REPORTED                     5201 non-null   bool \n",
      " 24  TRAFFICWAY_TYPE_ONE-WAY                          5201 non-null   bool \n",
      " 25  TRAFFICWAY_TYPE_OTHER                            5201 non-null   bool \n",
      " 26  TRAFFICWAY_TYPE_PARKING LOT                      5201 non-null   bool \n",
      " 27  TRAFFICWAY_TYPE_RAMP                             5201 non-null   bool \n",
      " 28  TRAFFICWAY_TYPE_ROUNDABOUT                       5201 non-null   bool \n",
      " 29  TRAFFICWAY_TYPE_T-INTERSECTION                   5201 non-null   bool \n",
      " 30  TRAFFICWAY_TYPE_TRAFFIC ROUTE                    5201 non-null   bool \n",
      " 31  TRAFFICWAY_TYPE_UNKNOWN                          5201 non-null   bool \n",
      " 32  TRAFFICWAY_TYPE_UNKNOWN INTERSECTION TYPE        5201 non-null   bool \n",
      " 33  TRAFFICWAY_TYPE_Y-INTERSECTION                   5201 non-null   bool \n",
      " 34  ROADWAY_SURFACE_COND_ICE                         5201 non-null   bool \n",
      " 35  ROADWAY_SURFACE_COND_OTHER                       5201 non-null   bool \n",
      " 36  ROADWAY_SURFACE_COND_SNOW OR SLUSH               5201 non-null   bool \n",
      " 37  ROADWAY_SURFACE_COND_UNKNOWN                     5201 non-null   bool \n",
      " 38  ROADWAY_SURFACE_COND_WET                         5201 non-null   bool \n",
      " 39  STREET_DIRECTION_N                               5201 non-null   bool \n",
      " 40  STREET_DIRECTION_S                               5201 non-null   bool \n",
      " 41  STREET_DIRECTION_W                               5201 non-null   bool \n",
      "dtypes: bool(38), int64(4)\n",
      "memory usage: 355.7 KB\n"
     ]
    }
   ],
   "source": [
    "#To see the X variables columns and Dtype\n",
    "X.info()"
   ]
  },
  {
   "cell_type": "code",
   "execution_count": 13,
   "id": "d5389bc9-5d34-441c-a925-20136a7e6b75",
   "metadata": {},
   "outputs": [
    {
     "name": "stdout",
     "output_type": "stream",
     "text": [
      "0        NO INDICATION OF INJURY\n",
      "1        NO INDICATION OF INJURY\n",
      "2        NO INDICATION OF INJURY\n",
      "3        NO INDICATION OF INJURY\n",
      "4        NO INDICATION OF INJURY\n",
      "                  ...           \n",
      "5196    NONINCAPACITATING INJURY\n",
      "5197     NO INDICATION OF INJURY\n",
      "5198     NO INDICATION OF INJURY\n",
      "5199     NO INDICATION OF INJURY\n",
      "5200     NO INDICATION OF INJURY\n",
      "Name: MOST_SEVERE_INJURY, Length: 5201, dtype: object\n"
     ]
    }
   ],
   "source": [
    "print(y)"
   ]
  },
  {
   "cell_type": "markdown",
   "id": "374184dd-b9c8-47b6-bda0-47727ce6bb61",
   "metadata": {},
   "source": [
    "Train-test split: \n",
    "Here, appling the Train-test split form sklearn. We reserve 20% of the data for testing to evaluate the model's performance (y- train) which is target variable. X-train contains columns'WEATHER_CONDITION', 'TRAFFICWAY_TYPE', 'ROADWAY_SURFACE_COND', 'STREET_DIRECTION', POSTED_SPEED_LIMIT, CRASH_HOUR\tCRASH_DAY_OF_WEEK, CRASH_MONTH. "
   ]
  },
  {
   "cell_type": "code",
   "execution_count": 14,
   "id": "49bb61ab-920c-4945-8904-67950edc9376",
   "metadata": {},
   "outputs": [],
   "source": [
    "# Train-test split\n",
    "X_train, X_test, y_train, y_test = train_test_split(X, y, test_size=0.2, random_state=42)"
   ]
  },
  {
   "cell_type": "code",
   "execution_count": 15,
   "id": "cd562064-8f5b-4483-bdbb-5c4a752a44cb",
   "metadata": {},
   "outputs": [
    {
     "data": {
      "text/plain": [
       "((4160, 42), (1041, 42))"
      ]
     },
     "execution_count": 15,
     "metadata": {},
     "output_type": "execute_result"
    }
   ],
   "source": [
    "#To see number of rows and columns in X_train and X_test\n",
    "X_train.shape, X_test.shape"
   ]
  },
  {
   "cell_type": "code",
   "execution_count": 16,
   "id": "d804089d-20c1-4a54-861f-09aee1a35569",
   "metadata": {},
   "outputs": [
    {
     "data": {
      "text/plain": [
       "((4160,), (1041,))"
      ]
     },
     "execution_count": 16,
     "metadata": {},
     "output_type": "execute_result"
    }
   ],
   "source": [
    "#To see number of rows and columns in y_train and y_test\n",
    "y_train.shape, y_test.shape"
   ]
  },
  {
   "cell_type": "code",
   "execution_count": 17,
   "id": "029ec316-ee4e-471a-a643-ecc5c92a43d3",
   "metadata": {},
   "outputs": [],
   "source": [
    "# Initialize the scaler\n",
    "scaler = StandardScaler()"
   ]
  },
  {
   "cell_type": "code",
   "execution_count": 18,
   "id": "16fac13d-9708-4a5d-8913-e4edc8f2cc67",
   "metadata": {},
   "outputs": [],
   "source": [
    "# Fit and transform the training data \n",
    "# for scaling Numerical columns\n",
    "X_train_scaled = scaler.fit_transform(X_train[Numerical_columns])\n"
   ]
  },
  {
   "cell_type": "code",
   "execution_count": 19,
   "id": "1b8e69bc-8eb2-4e82-ad7f-3810f246c0f9",
   "metadata": {},
   "outputs": [
    {
     "name": "stdout",
     "output_type": "stream",
     "text": [
      "[[ 0.2937593  -1.06106744 -1.10636596 -0.05447764]\n",
      " [ 0.2937593   0.00499718  0.41830798  0.6449883 ]\n",
      " [ 0.2937593   0.36035205 -0.08991667  0.6449883 ]\n",
      " ...\n",
      " [-2.0617509   0.89338436  0.92653262  0.6449883 ]\n",
      " [ 1.07892937 -0.70571257 -0.08991667  0.6449883 ]\n",
      " [ 0.2937593   0.89338436  1.43475727 -1.4534095 ]]\n"
     ]
    }
   ],
   "source": [
    "print(X_train_scaled)"
   ]
  },
  {
   "cell_type": "code",
   "execution_count": 20,
   "id": "bb625cc7-7459-4927-bed2-a5cfda524cdb",
   "metadata": {},
   "outputs": [],
   "source": [
    "# Transform the test data using the fitted scaler on the training data\n",
    "\n",
    "X_test_scaled = scaler.transform(X_test[Numerical_columns])\n"
   ]
  },
  {
   "cell_type": "code",
   "execution_count": 21,
   "id": "f5816a9e-9c1d-47e2-af1f-2ad3b191ddb3",
   "metadata": {},
   "outputs": [
    {
     "name": "stdout",
     "output_type": "stream",
     "text": [
      "[[ 0.2937593   0.71570692 -0.08991667 -0.75394357]\n",
      " [ 0.2937593   0.18267461 -1.10636596  1.34445423]\n",
      " [ 0.2937593  -0.17268026  0.92653262 -0.05447764]\n",
      " ...\n",
      " [ 1.07892937  0.53802949  1.43475727  0.6449883 ]\n",
      " [ 0.2937593  -0.17268026 -0.08991667 -1.4534095 ]\n",
      " [ 1.07892937  0.36035205  1.43475727  0.6449883 ]]\n"
     ]
    }
   ],
   "source": [
    "print(X_test_scaled)"
   ]
  },
  {
   "cell_type": "code",
   "execution_count": 22,
   "id": "ac088c90-e3eb-4e16-9e9c-ffcb198f745a",
   "metadata": {},
   "outputs": [],
   "source": [
    "# Random Forest Model\n",
    "rf_model = RandomForestClassifier(random_state=42)"
   ]
  },
  {
   "cell_type": "markdown",
   "id": "201a9cfe-a41b-4c13-918a-02bac6813c80",
   "metadata": {},
   "source": [
    "Here, we are going to improve the model's performance and stability using Cross-Validation technique"
   ]
  },
  {
   "cell_type": "code",
   "execution_count": 23,
   "id": "c1900594-8cc1-4a84-9738-e19b76a64d7a",
   "metadata": {},
   "outputs": [
    {
     "name": "stderr",
     "output_type": "stream",
     "text": [
      "C:\\Users\\mercy\\anaconda3\\Lib\\site-packages\\sklearn\\model_selection\\_split.py:700: UserWarning: The least populated class in y has only 3 members, which is less than n_splits=5.\n",
      "  warnings.warn(\n"
     ]
    },
    {
     "name": "stdout",
     "output_type": "stream",
     "text": [
      "[0.84975962 0.84975962 0.83173077 0.84855769 0.84375   ]\n"
     ]
    }
   ],
   "source": [
    "# Perform cross-validation to evaluate model stability\n",
    "cv_scores = cross_val_score(rf_model, X_train_scaled, y_train, cv=5, scoring='accuracy')  \n",
    "\n",
    "print(cv_scores)\n"
   ]
  },
  {
   "cell_type": "code",
   "execution_count": 24,
   "id": "bc512afe-f6e9-47ba-aa47-d11ef01587b9",
   "metadata": {},
   "outputs": [
    {
     "name": "stdout",
     "output_type": "stream",
     "text": [
      "Mean Cross-Validation Score: 0.8447115384615385\n"
     ]
    }
   ],
   "source": [
    "#See the Cross-Validation mean score using .mean() function\n",
    "print(\"Mean Cross-Validation Score:\", cv_scores.mean())"
   ]
  },
  {
   "cell_type": "code",
   "execution_count": 25,
   "id": "f079a456-4bad-4968-9a47-7e68109ae4cc",
   "metadata": {},
   "outputs": [
    {
     "data": {
      "text/html": [
       "<style>#sk-container-id-1 {color: black;background-color: white;}#sk-container-id-1 pre{padding: 0;}#sk-container-id-1 div.sk-toggleable {background-color: white;}#sk-container-id-1 label.sk-toggleable__label {cursor: pointer;display: block;width: 100%;margin-bottom: 0;padding: 0.3em;box-sizing: border-box;text-align: center;}#sk-container-id-1 label.sk-toggleable__label-arrow:before {content: \"▸\";float: left;margin-right: 0.25em;color: #696969;}#sk-container-id-1 label.sk-toggleable__label-arrow:hover:before {color: black;}#sk-container-id-1 div.sk-estimator:hover label.sk-toggleable__label-arrow:before {color: black;}#sk-container-id-1 div.sk-toggleable__content {max-height: 0;max-width: 0;overflow: hidden;text-align: left;background-color: #f0f8ff;}#sk-container-id-1 div.sk-toggleable__content pre {margin: 0.2em;color: black;border-radius: 0.25em;background-color: #f0f8ff;}#sk-container-id-1 input.sk-toggleable__control:checked~div.sk-toggleable__content {max-height: 200px;max-width: 100%;overflow: auto;}#sk-container-id-1 input.sk-toggleable__control:checked~label.sk-toggleable__label-arrow:before {content: \"▾\";}#sk-container-id-1 div.sk-estimator input.sk-toggleable__control:checked~label.sk-toggleable__label {background-color: #d4ebff;}#sk-container-id-1 div.sk-label input.sk-toggleable__control:checked~label.sk-toggleable__label {background-color: #d4ebff;}#sk-container-id-1 input.sk-hidden--visually {border: 0;clip: rect(1px 1px 1px 1px);clip: rect(1px, 1px, 1px, 1px);height: 1px;margin: -1px;overflow: hidden;padding: 0;position: absolute;width: 1px;}#sk-container-id-1 div.sk-estimator {font-family: monospace;background-color: #f0f8ff;border: 1px dotted black;border-radius: 0.25em;box-sizing: border-box;margin-bottom: 0.5em;}#sk-container-id-1 div.sk-estimator:hover {background-color: #d4ebff;}#sk-container-id-1 div.sk-parallel-item::after {content: \"\";width: 100%;border-bottom: 1px solid gray;flex-grow: 1;}#sk-container-id-1 div.sk-label:hover label.sk-toggleable__label {background-color: #d4ebff;}#sk-container-id-1 div.sk-serial::before {content: \"\";position: absolute;border-left: 1px solid gray;box-sizing: border-box;top: 0;bottom: 0;left: 50%;z-index: 0;}#sk-container-id-1 div.sk-serial {display: flex;flex-direction: column;align-items: center;background-color: white;padding-right: 0.2em;padding-left: 0.2em;position: relative;}#sk-container-id-1 div.sk-item {position: relative;z-index: 1;}#sk-container-id-1 div.sk-parallel {display: flex;align-items: stretch;justify-content: center;background-color: white;position: relative;}#sk-container-id-1 div.sk-item::before, #sk-container-id-1 div.sk-parallel-item::before {content: \"\";position: absolute;border-left: 1px solid gray;box-sizing: border-box;top: 0;bottom: 0;left: 50%;z-index: -1;}#sk-container-id-1 div.sk-parallel-item {display: flex;flex-direction: column;z-index: 1;position: relative;background-color: white;}#sk-container-id-1 div.sk-parallel-item:first-child::after {align-self: flex-end;width: 50%;}#sk-container-id-1 div.sk-parallel-item:last-child::after {align-self: flex-start;width: 50%;}#sk-container-id-1 div.sk-parallel-item:only-child::after {width: 0;}#sk-container-id-1 div.sk-dashed-wrapped {border: 1px dashed gray;margin: 0 0.4em 0.5em 0.4em;box-sizing: border-box;padding-bottom: 0.4em;background-color: white;}#sk-container-id-1 div.sk-label label {font-family: monospace;font-weight: bold;display: inline-block;line-height: 1.2em;}#sk-container-id-1 div.sk-label-container {text-align: center;}#sk-container-id-1 div.sk-container {/* jupyter's `normalize.less` sets `[hidden] { display: none; }` but bootstrap.min.css set `[hidden] { display: none !important; }` so we also need the `!important` here to be able to override the default hidden behavior on the sphinx rendered scikit-learn.org. See: https://github.com/scikit-learn/scikit-learn/issues/21755 */display: inline-block !important;position: relative;}#sk-container-id-1 div.sk-text-repr-fallback {display: none;}</style><div id=\"sk-container-id-1\" class=\"sk-top-container\"><div class=\"sk-text-repr-fallback\"><pre>RandomForestClassifier(random_state=42)</pre><b>In a Jupyter environment, please rerun this cell to show the HTML representation or trust the notebook. <br />On GitHub, the HTML representation is unable to render, please try loading this page with nbviewer.org.</b></div><div class=\"sk-container\" hidden><div class=\"sk-item\"><div class=\"sk-estimator sk-toggleable\"><input class=\"sk-toggleable__control sk-hidden--visually\" id=\"sk-estimator-id-1\" type=\"checkbox\" checked><label for=\"sk-estimator-id-1\" class=\"sk-toggleable__label sk-toggleable__label-arrow\">RandomForestClassifier</label><div class=\"sk-toggleable__content\"><pre>RandomForestClassifier(random_state=42)</pre></div></div></div></div></div>"
      ],
      "text/plain": [
       "RandomForestClassifier(random_state=42)"
      ]
     },
     "execution_count": 25,
     "metadata": {},
     "output_type": "execute_result"
    }
   ],
   "source": [
    "# Train the Random Forest Model with the scaled data\n",
    "rf_model.fit(X_train_scaled, y_train)\n"
   ]
  },
  {
   "cell_type": "code",
   "execution_count": 26,
   "id": "fae43103-541d-472b-a51a-eeca26b38779",
   "metadata": {},
   "outputs": [],
   "source": [
    "# Predictions and evaluation for Random Forest\n",
    "y_pred_rf = rf_model.predict(X_test_scaled)\n"
   ]
  },
  {
   "cell_type": "code",
   "execution_count": 27,
   "id": "3d9e27e2-734a-4395-a950-1ee7b60a74b1",
   "metadata": {},
   "outputs": [
    {
     "name": "stdout",
     "output_type": "stream",
     "text": [
      "['NO INDICATION OF INJURY' 'NO INDICATION OF INJURY'\n",
      " 'NO INDICATION OF INJURY' ... 'NO INDICATION OF INJURY'\n",
      " 'NO INDICATION OF INJURY' 'NO INDICATION OF INJURY']\n"
     ]
    }
   ],
   "source": [
    "print( y_pred_rf)"
   ]
  },
  {
   "cell_type": "code",
   "execution_count": 28,
   "id": "fed9b3f0-fc8d-478c-9b16-51ff34afd25b",
   "metadata": {},
   "outputs": [
    {
     "name": "stdout",
     "output_type": "stream",
     "text": [
      "Random Forest Classification Report:\n",
      "                          precision    recall  f1-score   support\n",
      "\n",
      "                   FATAL       0.00      0.00      0.00         1\n",
      "   INCAPACITATING INJURY       0.25      0.07      0.11        15\n",
      " NO INDICATION OF INJURY       0.88      0.97      0.92       910\n",
      "NONINCAPACITATING INJURY       0.05      0.01      0.02        83\n",
      "   REPORTED, NOT EVIDENT       0.00      0.00      0.00        32\n",
      "\n",
      "                accuracy                           0.85      1041\n",
      "               macro avg       0.23      0.21      0.21      1041\n",
      "            weighted avg       0.77      0.85      0.81      1041\n",
      "\n"
     ]
    },
    {
     "name": "stderr",
     "output_type": "stream",
     "text": [
      "C:\\Users\\mercy\\anaconda3\\Lib\\site-packages\\sklearn\\metrics\\_classification.py:1344: UndefinedMetricWarning: Precision and F-score are ill-defined and being set to 0.0 in labels with no predicted samples. Use `zero_division` parameter to control this behavior.\n",
      "  _warn_prf(average, modifier, msg_start, len(result))\n",
      "C:\\Users\\mercy\\anaconda3\\Lib\\site-packages\\sklearn\\metrics\\_classification.py:1344: UndefinedMetricWarning: Precision and F-score are ill-defined and being set to 0.0 in labels with no predicted samples. Use `zero_division` parameter to control this behavior.\n",
      "  _warn_prf(average, modifier, msg_start, len(result))\n",
      "C:\\Users\\mercy\\anaconda3\\Lib\\site-packages\\sklearn\\metrics\\_classification.py:1344: UndefinedMetricWarning: Precision and F-score are ill-defined and being set to 0.0 in labels with no predicted samples. Use `zero_division` parameter to control this behavior.\n",
      "  _warn_prf(average, modifier, msg_start, len(result))\n"
     ]
    }
   ],
   "source": [
    "#To see the Classification Report\n",
    "print(\"Random Forest Classification Report:\")\n",
    "print(classification_report(y_test, y_pred_rf))"
   ]
  },
  {
   "cell_type": "code",
   "execution_count": null,
   "id": "b5c9011b-9b6e-4621-b04f-b9179db9273b",
   "metadata": {},
   "outputs": [],
   "source": []
  },
  {
   "cell_type": "code",
   "execution_count": 29,
   "id": "af00f0f5-0792-42b0-a0c2-f73e074b398d",
   "metadata": {},
   "outputs": [
    {
     "name": "stdout",
     "output_type": "stream",
     "text": [
      "Accuracy: 0.8491834774255523\n"
     ]
    }
   ],
   "source": [
    "#To see the Accuracy \n",
    "print(\"Accuracy:\", accuracy_score(y_test, y_pred_rf))"
   ]
  },
  {
   "cell_type": "markdown",
   "id": "679d74e7-aab4-498d-96ae-8db5269ae27e",
   "metadata": {},
   "source": [
    "Conclusion:"
   ]
  },
  {
   "cell_type": "markdown",
   "id": "fb9f6ab1-8a84-49be-b9b1-0a300245a8e4",
   "metadata": {},
   "source": [
    "The Random Forest model predicts the severity of traffic crashes in Chicago. Using the cross-validation technique, the model's average accuracy is (Mean Cross-Validation Score: 0.84471) The model produced an accuracy: 0.8491834774255523. The Random Forest model is well-suited for identifying high-risk conditions for traffic crashes, providing valuable insights for targeted road safety interventions.\n"
   ]
  }
 ],
 "metadata": {
  "kernelspec": {
   "display_name": "Python 3 (ipykernel)",
   "language": "python",
   "name": "python3"
  },
  "language_info": {
   "codemirror_mode": {
    "name": "ipython",
    "version": 3
   },
   "file_extension": ".py",
   "mimetype": "text/x-python",
   "name": "python",
   "nbconvert_exporter": "python",
   "pygments_lexer": "ipython3",
   "version": "3.11.7"
  }
 },
 "nbformat": 4,
 "nbformat_minor": 5
}
