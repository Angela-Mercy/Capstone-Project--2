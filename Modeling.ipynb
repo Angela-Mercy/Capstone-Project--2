{
 "cells": [
  {
   "cell_type": "markdown",
   "id": "fe0f9bec-f56b-4e84-ad9b-bbb559030c78",
   "metadata": {},
   "source": [
    "Modeling:"
   ]
  },
  {
   "cell_type": "markdown",
   "id": "fa3cda6e-d00f-458e-b605-bbfdf2cfb584",
   "metadata": {},
   "source": [
    "The modeling process will train and evaluate two machine learning models, Random Forest, and Gradient Boosting, to predict crash severity using key features like weather conditions, speed limits, and road characteristics. These models will show the accuracy, and F1-score to identify the best predictors of high-severity crashes in Chicago in 2022."
   ]
  },
  {
   "cell_type": "markdown",
   "id": "09aab179-b4b9-4461-a721-4438727bb2fe",
   "metadata": {},
   "source": [
    "Import - Libraries: will help to use the modules that contain functions, and methods"
   ]
  },
  {
   "cell_type": "code",
   "execution_count": 2,
   "id": "4e4a6518-76ab-4140-bd25-113a18d57f76",
   "metadata": {},
   "outputs": [],
   "source": [
    "import os\n",
    "import pandas as pd\n",
    "from sklearn.model_selection import train_test_split, cross_val_score, StratifiedKFold\n",
    "from sklearn.ensemble import RandomForestClassifier, GradientBoostingClassifier\n",
    "from sklearn.preprocessing import LabelEncoder\n",
    "from sklearn.metrics import classification_report, accuracy_score, precision_score, recall_score, f1_score\n",
    "import numpy as np"
   ]
  },
  {
   "cell_type": "markdown",
   "id": "77933269-0fda-426d-9fa9-3dc37da98d6a",
   "metadata": {},
   "source": [
    "Data Collection: Data collection is the process of gathering information from various formatted types. Here, the data is in CSV file."
   ]
  },
  {
   "cell_type": "code",
   "execution_count": 3,
   "id": "c761d092-e4f2-41db-bbfe-e7ab80f23570",
   "metadata": {},
   "outputs": [],
   "source": [
    "#loading dataset in a new dataframe 'Car_Crash'\n",
    "Car_Crash = pd.read_csv('Crash_analyzed.csv')"
   ]
  },
  {
   "cell_type": "code",
   "execution_count": 4,
   "id": "47d358a5-cb02-44b8-b3fa-155511560ac3",
   "metadata": {},
   "outputs": [
    {
     "data": {
      "text/html": [
       "<div>\n",
       "<style scoped>\n",
       "    .dataframe tbody tr th:only-of-type {\n",
       "        vertical-align: middle;\n",
       "    }\n",
       "\n",
       "    .dataframe tbody tr th {\n",
       "        vertical-align: top;\n",
       "    }\n",
       "\n",
       "    .dataframe thead th {\n",
       "        text-align: right;\n",
       "    }\n",
       "</style>\n",
       "<table border=\"1\" class=\"dataframe\">\n",
       "  <thead>\n",
       "    <tr style=\"text-align: right;\">\n",
       "      <th></th>\n",
       "      <th>CRASH_DATE</th>\n",
       "      <th>POSTED_SPEED_LIMIT</th>\n",
       "      <th>WEATHER_CONDITION</th>\n",
       "      <th>TRAFFICWAY_TYPE</th>\n",
       "      <th>ROADWAY_SURFACE_COND</th>\n",
       "      <th>STREET_DIRECTION</th>\n",
       "      <th>MOST_SEVERE_INJURY</th>\n",
       "      <th>CRASH_HOUR</th>\n",
       "      <th>CRASH_DAY_OF_WEEK</th>\n",
       "      <th>CRASH_MONTH</th>\n",
       "    </tr>\n",
       "  </thead>\n",
       "  <tbody>\n",
       "    <tr>\n",
       "      <th>0</th>\n",
       "      <td>2022-01-31</td>\n",
       "      <td>25</td>\n",
       "      <td>CLEAR</td>\n",
       "      <td>ONE-WAY</td>\n",
       "      <td>DRY</td>\n",
       "      <td>W</td>\n",
       "      <td>NO INDICATION OF INJURY</td>\n",
       "      <td>19</td>\n",
       "      <td>2</td>\n",
       "      <td>1</td>\n",
       "    </tr>\n",
       "    <tr>\n",
       "      <th>1</th>\n",
       "      <td>2022-01-01</td>\n",
       "      <td>10</td>\n",
       "      <td>SNOW</td>\n",
       "      <td>PARKING LOT</td>\n",
       "      <td>SNOW OR SLUSH</td>\n",
       "      <td>W</td>\n",
       "      <td>NO INDICATION OF INJURY</td>\n",
       "      <td>16</td>\n",
       "      <td>7</td>\n",
       "      <td>1</td>\n",
       "    </tr>\n",
       "    <tr>\n",
       "      <th>2</th>\n",
       "      <td>2022-01-30</td>\n",
       "      <td>25</td>\n",
       "      <td>CLEAR</td>\n",
       "      <td>ONE-WAY</td>\n",
       "      <td>SNOW OR SLUSH</td>\n",
       "      <td>W</td>\n",
       "      <td>NO INDICATION OF INJURY</td>\n",
       "      <td>8</td>\n",
       "      <td>1</td>\n",
       "      <td>1</td>\n",
       "    </tr>\n",
       "    <tr>\n",
       "      <th>3</th>\n",
       "      <td>2022-05-28</td>\n",
       "      <td>25</td>\n",
       "      <td>CLEAR</td>\n",
       "      <td>ONE-WAY</td>\n",
       "      <td>DRY</td>\n",
       "      <td>W</td>\n",
       "      <td>NO INDICATION OF INJURY</td>\n",
       "      <td>17</td>\n",
       "      <td>7</td>\n",
       "      <td>5</td>\n",
       "    </tr>\n",
       "    <tr>\n",
       "      <th>4</th>\n",
       "      <td>2022-04-16</td>\n",
       "      <td>10</td>\n",
       "      <td>CLEAR</td>\n",
       "      <td>PARKING LOT</td>\n",
       "      <td>DRY</td>\n",
       "      <td>W</td>\n",
       "      <td>NO INDICATION OF INJURY</td>\n",
       "      <td>11</td>\n",
       "      <td>7</td>\n",
       "      <td>4</td>\n",
       "    </tr>\n",
       "  </tbody>\n",
       "</table>\n",
       "</div>"
      ],
      "text/plain": [
       "   CRASH_DATE  POSTED_SPEED_LIMIT WEATHER_CONDITION TRAFFICWAY_TYPE  \\\n",
       "0  2022-01-31                  25             CLEAR         ONE-WAY   \n",
       "1  2022-01-01                  10              SNOW     PARKING LOT   \n",
       "2  2022-01-30                  25             CLEAR         ONE-WAY   \n",
       "3  2022-05-28                  25             CLEAR         ONE-WAY   \n",
       "4  2022-04-16                  10             CLEAR     PARKING LOT   \n",
       "\n",
       "  ROADWAY_SURFACE_COND STREET_DIRECTION       MOST_SEVERE_INJURY  CRASH_HOUR  \\\n",
       "0                  DRY                W  NO INDICATION OF INJURY          19   \n",
       "1        SNOW OR SLUSH                W  NO INDICATION OF INJURY          16   \n",
       "2        SNOW OR SLUSH                W  NO INDICATION OF INJURY           8   \n",
       "3                  DRY                W  NO INDICATION OF INJURY          17   \n",
       "4                  DRY                W  NO INDICATION OF INJURY          11   \n",
       "\n",
       "   CRASH_DAY_OF_WEEK  CRASH_MONTH  \n",
       "0                  2            1  \n",
       "1                  7            1  \n",
       "2                  1            1  \n",
       "3                  7            5  \n",
       "4                  7            4  "
      ]
     },
     "execution_count": 4,
     "metadata": {},
     "output_type": "execute_result"
    }
   ],
   "source": [
    "#To see the sample of five rows, use .head() method.\n",
    "Car_Crash.head()"
   ]
  },
  {
   "cell_type": "code",
   "execution_count": 5,
   "id": "d05d2d5e-c4bb-4dd4-a02e-0520383e5776",
   "metadata": {},
   "outputs": [
    {
     "name": "stdout",
     "output_type": "stream",
     "text": [
      "<class 'pandas.core.frame.DataFrame'>\n",
      "RangeIndex: 5201 entries, 0 to 5200\n",
      "Data columns (total 10 columns):\n",
      " #   Column                Non-Null Count  Dtype \n",
      "---  ------                --------------  ----- \n",
      " 0   CRASH_DATE            5201 non-null   object\n",
      " 1   POSTED_SPEED_LIMIT    5201 non-null   int64 \n",
      " 2   WEATHER_CONDITION     5201 non-null   object\n",
      " 3   TRAFFICWAY_TYPE       5201 non-null   object\n",
      " 4   ROADWAY_SURFACE_COND  5201 non-null   object\n",
      " 5   STREET_DIRECTION      5201 non-null   object\n",
      " 6   MOST_SEVERE_INJURY    5201 non-null   object\n",
      " 7   CRASH_HOUR            5201 non-null   int64 \n",
      " 8   CRASH_DAY_OF_WEEK     5201 non-null   int64 \n",
      " 9   CRASH_MONTH           5201 non-null   int64 \n",
      "dtypes: int64(4), object(6)\n",
      "memory usage: 406.5+ KB\n"
     ]
    }
   ],
   "source": [
    "#To see columns names and dtype in Car_Crash\n",
    "Car_Crash.info()"
   ]
  },
  {
   "cell_type": "markdown",
   "id": "18afd789-2505-47f3-b661-39a3fe0db355",
   "metadata": {},
   "source": [
    "Deleting columns using .drop() method in python"
   ]
  },
  {
   "cell_type": "code",
   "execution_count": 6,
   "id": "6446f397-97dc-426d-ae88-addc207b57f1",
   "metadata": {},
   "outputs": [],
   "source": [
    "# Drop unnecessary columns\n",
    "Crash_data = Car_Crash.drop(columns=['CRASH_DATE'])"
   ]
  },
  {
   "cell_type": "code",
   "execution_count": 7,
   "id": "9d8c9eb2-4fa5-456c-9698-6aa18ee62d3b",
   "metadata": {},
   "outputs": [
    {
     "data": {
      "text/plain": [
       "(5201, 9)"
      ]
     },
     "execution_count": 7,
     "metadata": {},
     "output_type": "execute_result"
    }
   ],
   "source": [
    "#To see number of rows and columns in Crash_data \n",
    "Crash_data.shape"
   ]
  },
  {
   "cell_type": "markdown",
   "id": "cfa1358e-e2b1-4f7f-bc3c-bb9405fa5a9f",
   "metadata": {},
   "source": [
    "Before split the dataset, encode the categorical features from the dataset"
   ]
  },
  {
   "cell_type": "code",
   "execution_count": 8,
   "id": "e13de785-04a8-47b2-82f0-b276e04be7cb",
   "metadata": {},
   "outputs": [],
   "source": [
    "# Encode categorical features\n",
    "label_encoders = {}\n",
    "for column in ['WEATHER_CONDITION', 'TRAFFICWAY_TYPE', 'ROADWAY_SURFACE_COND', 'STREET_DIRECTION', 'MOST_SEVERE_INJURY']:\n",
    "    le = LabelEncoder()\n",
    "    Crash_data[column] = le.fit_transform(Crash_data[column])\n",
    "    label_encoders[column] = le\n"
   ]
  },
  {
   "cell_type": "code",
   "execution_count": 9,
   "id": "4aaa4b36-4c57-4d02-8962-5b0a24eceec1",
   "metadata": {},
   "outputs": [],
   "source": [
    "# Split dataset into features and target\n",
    "X = Crash_data.drop(columns=['MOST_SEVERE_INJURY'])\n",
    "y = Crash_data['MOST_SEVERE_INJURY']"
   ]
  },
  {
   "cell_type": "code",
   "execution_count": 10,
   "id": "0325272a-11c7-4245-b143-c1a3fdf21a70",
   "metadata": {},
   "outputs": [
    {
     "name": "stdout",
     "output_type": "stream",
     "text": [
      "<class 'pandas.core.frame.DataFrame'>\n",
      "RangeIndex: 5201 entries, 0 to 5200\n",
      "Data columns (total 8 columns):\n",
      " #   Column                Non-Null Count  Dtype\n",
      "---  ------                --------------  -----\n",
      " 0   POSTED_SPEED_LIMIT    5201 non-null   int64\n",
      " 1   WEATHER_CONDITION     5201 non-null   int32\n",
      " 2   TRAFFICWAY_TYPE       5201 non-null   int32\n",
      " 3   ROADWAY_SURFACE_COND  5201 non-null   int32\n",
      " 4   STREET_DIRECTION      5201 non-null   int32\n",
      " 5   CRASH_HOUR            5201 non-null   int64\n",
      " 6   CRASH_DAY_OF_WEEK     5201 non-null   int64\n",
      " 7   CRASH_MONTH           5201 non-null   int64\n",
      "dtypes: int32(4), int64(4)\n",
      "memory usage: 243.9 KB\n"
     ]
    }
   ],
   "source": [
    "X.info()"
   ]
  },
  {
   "cell_type": "code",
   "execution_count": null,
   "id": "b2c1602f-fcbe-418e-b279-024751ab6296",
   "metadata": {},
   "outputs": [],
   "source": []
  },
  {
   "cell_type": "code",
   "execution_count": 11,
   "id": "91446061-7102-4237-ace4-016ae4728e90",
   "metadata": {},
   "outputs": [],
   "source": [
    "# Train-test split\n",
    "X_train, X_test, y_train, y_test = train_test_split(X, y, test_size=0.2, random_state=42)"
   ]
  },
  {
   "cell_type": "markdown",
   "id": "01958b6c-ec9b-4b90-bd93-e1b3d76dbc96",
   "metadata": {},
   "source": [
    "Cross-validation: \n",
    "A technique to assess model performance by splitting the data into multiple training and testing subsets."
   ]
  },
  {
   "cell_type": "code",
   "execution_count": 12,
   "id": "6a76ff69-b444-4952-9102-e418c9e0fe71",
   "metadata": {},
   "outputs": [],
   "source": [
    "# Cross-validation setup\n",
    "cv = StratifiedKFold(n_splits=5, shuffle=True, random_state=42)"
   ]
  },
  {
   "cell_type": "code",
   "execution_count": 13,
   "id": "6a44604e-12a9-4ec1-b44e-24f6961e59d2",
   "metadata": {},
   "outputs": [
    {
     "data": {
      "text/html": [
       "<style>#sk-container-id-1 {color: black;background-color: white;}#sk-container-id-1 pre{padding: 0;}#sk-container-id-1 div.sk-toggleable {background-color: white;}#sk-container-id-1 label.sk-toggleable__label {cursor: pointer;display: block;width: 100%;margin-bottom: 0;padding: 0.3em;box-sizing: border-box;text-align: center;}#sk-container-id-1 label.sk-toggleable__label-arrow:before {content: \"▸\";float: left;margin-right: 0.25em;color: #696969;}#sk-container-id-1 label.sk-toggleable__label-arrow:hover:before {color: black;}#sk-container-id-1 div.sk-estimator:hover label.sk-toggleable__label-arrow:before {color: black;}#sk-container-id-1 div.sk-toggleable__content {max-height: 0;max-width: 0;overflow: hidden;text-align: left;background-color: #f0f8ff;}#sk-container-id-1 div.sk-toggleable__content pre {margin: 0.2em;color: black;border-radius: 0.25em;background-color: #f0f8ff;}#sk-container-id-1 input.sk-toggleable__control:checked~div.sk-toggleable__content {max-height: 200px;max-width: 100%;overflow: auto;}#sk-container-id-1 input.sk-toggleable__control:checked~label.sk-toggleable__label-arrow:before {content: \"▾\";}#sk-container-id-1 div.sk-estimator input.sk-toggleable__control:checked~label.sk-toggleable__label {background-color: #d4ebff;}#sk-container-id-1 div.sk-label input.sk-toggleable__control:checked~label.sk-toggleable__label {background-color: #d4ebff;}#sk-container-id-1 input.sk-hidden--visually {border: 0;clip: rect(1px 1px 1px 1px);clip: rect(1px, 1px, 1px, 1px);height: 1px;margin: -1px;overflow: hidden;padding: 0;position: absolute;width: 1px;}#sk-container-id-1 div.sk-estimator {font-family: monospace;background-color: #f0f8ff;border: 1px dotted black;border-radius: 0.25em;box-sizing: border-box;margin-bottom: 0.5em;}#sk-container-id-1 div.sk-estimator:hover {background-color: #d4ebff;}#sk-container-id-1 div.sk-parallel-item::after {content: \"\";width: 100%;border-bottom: 1px solid gray;flex-grow: 1;}#sk-container-id-1 div.sk-label:hover label.sk-toggleable__label {background-color: #d4ebff;}#sk-container-id-1 div.sk-serial::before {content: \"\";position: absolute;border-left: 1px solid gray;box-sizing: border-box;top: 0;bottom: 0;left: 50%;z-index: 0;}#sk-container-id-1 div.sk-serial {display: flex;flex-direction: column;align-items: center;background-color: white;padding-right: 0.2em;padding-left: 0.2em;position: relative;}#sk-container-id-1 div.sk-item {position: relative;z-index: 1;}#sk-container-id-1 div.sk-parallel {display: flex;align-items: stretch;justify-content: center;background-color: white;position: relative;}#sk-container-id-1 div.sk-item::before, #sk-container-id-1 div.sk-parallel-item::before {content: \"\";position: absolute;border-left: 1px solid gray;box-sizing: border-box;top: 0;bottom: 0;left: 50%;z-index: -1;}#sk-container-id-1 div.sk-parallel-item {display: flex;flex-direction: column;z-index: 1;position: relative;background-color: white;}#sk-container-id-1 div.sk-parallel-item:first-child::after {align-self: flex-end;width: 50%;}#sk-container-id-1 div.sk-parallel-item:last-child::after {align-self: flex-start;width: 50%;}#sk-container-id-1 div.sk-parallel-item:only-child::after {width: 0;}#sk-container-id-1 div.sk-dashed-wrapped {border: 1px dashed gray;margin: 0 0.4em 0.5em 0.4em;box-sizing: border-box;padding-bottom: 0.4em;background-color: white;}#sk-container-id-1 div.sk-label label {font-family: monospace;font-weight: bold;display: inline-block;line-height: 1.2em;}#sk-container-id-1 div.sk-label-container {text-align: center;}#sk-container-id-1 div.sk-container {/* jupyter's `normalize.less` sets `[hidden] { display: none; }` but bootstrap.min.css set `[hidden] { display: none !important; }` so we also need the `!important` here to be able to override the default hidden behavior on the sphinx rendered scikit-learn.org. See: https://github.com/scikit-learn/scikit-learn/issues/21755 */display: inline-block !important;position: relative;}#sk-container-id-1 div.sk-text-repr-fallback {display: none;}</style><div id=\"sk-container-id-1\" class=\"sk-top-container\"><div class=\"sk-text-repr-fallback\"><pre>RandomForestClassifier(random_state=42)</pre><b>In a Jupyter environment, please rerun this cell to show the HTML representation or trust the notebook. <br />On GitHub, the HTML representation is unable to render, please try loading this page with nbviewer.org.</b></div><div class=\"sk-container\" hidden><div class=\"sk-item\"><div class=\"sk-estimator sk-toggleable\"><input class=\"sk-toggleable__control sk-hidden--visually\" id=\"sk-estimator-id-1\" type=\"checkbox\" checked><label for=\"sk-estimator-id-1\" class=\"sk-toggleable__label sk-toggleable__label-arrow\">RandomForestClassifier</label><div class=\"sk-toggleable__content\"><pre>RandomForestClassifier(random_state=42)</pre></div></div></div></div></div>"
      ],
      "text/plain": [
       "RandomForestClassifier(random_state=42)"
      ]
     },
     "execution_count": 13,
     "metadata": {},
     "output_type": "execute_result"
    }
   ],
   "source": [
    "# Random Forest Model\n",
    "rf_model = RandomForestClassifier(random_state=42)\n",
    "rf_model.fit(X_train, y_train)"
   ]
  },
  {
   "cell_type": "code",
   "execution_count": 15,
   "id": "e2a4f474-e5aa-4680-a91e-7ba276af789a",
   "metadata": {},
   "outputs": [
    {
     "name": "stderr",
     "output_type": "stream",
     "text": [
      "C:\\Users\\mercy\\anaconda3\\Lib\\site-packages\\sklearn\\model_selection\\_split.py:700: UserWarning: The least populated class in y has only 3 members, which is less than n_splits=5.\n",
      "  warnings.warn(\n"
     ]
    },
    {
     "name": "stdout",
     "output_type": "stream",
     "text": [
      "Random Forest Cross-Validation Accuracy Scores: [0.86658654 0.85576923 0.86538462 0.86177885 0.86418269]\n"
     ]
    }
   ],
   "source": [
    "# Cross-validation for Random Forest\n",
    "rf_cv_scores = cross_val_score(rf_model, X_train, y_train, cv=cv, scoring='accuracy')\n",
    "print(\"Random Forest Cross-Validation Accuracy Scores:\", rf_cv_scores)"
   ]
  },
  {
   "cell_type": "code",
   "execution_count": 16,
   "id": "4246299f-c845-4051-88e7-4957c4d4efee",
   "metadata": {},
   "outputs": [
    {
     "name": "stdout",
     "output_type": "stream",
     "text": [
      "Mean CV Accuracy: 0.8627403846153847\n"
     ]
    }
   ],
   "source": [
    "#To check mean value for the CV Accuracy\n",
    "print(\"Mean CV Accuracy:\", np.mean(rf_cv_scores))"
   ]
  },
  {
   "cell_type": "markdown",
   "id": "2deeefb3-5886-4ca0-8d2a-90ff81219a02",
   "metadata": {},
   "source": [
    "Prediction Evaluation for Random Forest Model:\n",
    "Measures the accuracy, precision, recall, and F1-score of the Random Forest model."
   ]
  },
  {
   "cell_type": "code",
   "execution_count": 17,
   "id": "d466bd8e-c100-4ecf-8d39-ecdfe665dda3",
   "metadata": {},
   "outputs": [
    {
     "name": "stdout",
     "output_type": "stream",
     "text": [
      "\n",
      "Random Forest Classification Report:\n",
      "              precision    recall  f1-score   support\n",
      "\n",
      "           0       0.00      0.00      0.00         1\n",
      "           1       0.00      0.00      0.00        15\n",
      "           2       0.88      0.99      0.93       910\n",
      "           3       0.20      0.02      0.04        83\n",
      "           4       0.17      0.03      0.05        32\n",
      "\n",
      "    accuracy                           0.87      1041\n",
      "   macro avg       0.25      0.21      0.21      1041\n",
      "weighted avg       0.79      0.87      0.82      1041\n",
      "\n"
     ]
    },
    {
     "name": "stderr",
     "output_type": "stream",
     "text": [
      "C:\\Users\\mercy\\anaconda3\\Lib\\site-packages\\sklearn\\metrics\\_classification.py:1344: UndefinedMetricWarning: Precision and F-score are ill-defined and being set to 0.0 in labels with no predicted samples. Use `zero_division` parameter to control this behavior.\n",
      "  _warn_prf(average, modifier, msg_start, len(result))\n",
      "C:\\Users\\mercy\\anaconda3\\Lib\\site-packages\\sklearn\\metrics\\_classification.py:1344: UndefinedMetricWarning: Precision and F-score are ill-defined and being set to 0.0 in labels with no predicted samples. Use `zero_division` parameter to control this behavior.\n",
      "  _warn_prf(average, modifier, msg_start, len(result))\n",
      "C:\\Users\\mercy\\anaconda3\\Lib\\site-packages\\sklearn\\metrics\\_classification.py:1344: UndefinedMetricWarning: Precision and F-score are ill-defined and being set to 0.0 in labels with no predicted samples. Use `zero_division` parameter to control this behavior.\n",
      "  _warn_prf(average, modifier, msg_start, len(result))\n"
     ]
    }
   ],
   "source": [
    "# Predictions and evaluation for Random Forest\n",
    "y_pred_rf = rf_model.predict(X_test)\n",
    "print(\"\\nRandom Forest Classification Report:\")\n",
    "print(classification_report(y_test, y_pred_rf))\n"
   ]
  },
  {
   "cell_type": "code",
   "execution_count": 18,
   "id": "bc22131a-f5e2-416e-93bd-fbc96f8305cd",
   "metadata": {},
   "outputs": [
    {
     "name": "stdout",
     "output_type": "stream",
     "text": [
      "Accuracy: 0.8655139289145053\n"
     ]
    }
   ],
   "source": [
    "#Accuracy Score\n",
    "print(\"Accuracy:\", accuracy_score(y_test, y_pred_rf))"
   ]
  },
  {
   "cell_type": "code",
   "execution_count": 19,
   "id": "ab10bf19-fa26-49cf-bba8-788277cb4c23",
   "metadata": {},
   "outputs": [
    {
     "name": "stdout",
     "output_type": "stream",
     "text": [
      "Precision: 0.789918844828565\n"
     ]
    },
    {
     "name": "stderr",
     "output_type": "stream",
     "text": [
      "C:\\Users\\mercy\\anaconda3\\Lib\\site-packages\\sklearn\\metrics\\_classification.py:1344: UndefinedMetricWarning: Precision is ill-defined and being set to 0.0 in labels with no predicted samples. Use `zero_division` parameter to control this behavior.\n",
      "  _warn_prf(average, modifier, msg_start, len(result))\n"
     ]
    }
   ],
   "source": [
    "#Precision Score\n",
    "print(\"Precision:\", precision_score(y_test, y_pred_rf, average='weighted'))"
   ]
  },
  {
   "cell_type": "code",
   "execution_count": 20,
   "id": "4ec6ce8c-5891-4c54-a3c5-ad748f253d8f",
   "metadata": {},
   "outputs": [
    {
     "name": "stdout",
     "output_type": "stream",
     "text": [
      "Recall: 0.8655139289145053\n"
     ]
    }
   ],
   "source": [
    "#Recall Score\n",
    "print(\"Recall:\", recall_score(y_test, y_pred_rf, average='weighted'))"
   ]
  },
  {
   "cell_type": "code",
   "execution_count": 21,
   "id": "65984c42-2f94-42f2-8ecc-8414016d75ee",
   "metadata": {},
   "outputs": [
    {
     "name": "stdout",
     "output_type": "stream",
     "text": [
      "F1 Score: 0.8180924274063786\n"
     ]
    }
   ],
   "source": [
    "# F1 Score\n",
    "print(\"F1 Score:\", f1_score(y_test, y_pred_rf, average='weighted'))"
   ]
  },
  {
   "cell_type": "markdown",
   "id": "e42bea35-cea7-4fd4-a612-930f96a9ce1c",
   "metadata": {},
   "source": [
    " Gradient Boosting Model:"
   ]
  },
  {
   "cell_type": "markdown",
   "id": "644a0eeb-fe75-47e0-837a-a4ac76cacc6e",
   "metadata": {},
   "source": [
    "After evaluating the performance of the Random Forest model, we proceed with another Machine Learning Model which is the Gradient Boosting model. The Gradient Boosting will correct errors iteratively for improved predictive accuracy. By using the second model for the same Car Crash Chicago in the 2022 dataset, we can compare the prediction (Most Severe Injuries). "
   ]
  },
  {
   "cell_type": "code",
   "execution_count": 22,
   "id": "bc363873-7d00-4c34-a1e4-21e20738d9ac",
   "metadata": {},
   "outputs": [
    {
     "data": {
      "text/html": [
       "<style>#sk-container-id-2 {color: black;background-color: white;}#sk-container-id-2 pre{padding: 0;}#sk-container-id-2 div.sk-toggleable {background-color: white;}#sk-container-id-2 label.sk-toggleable__label {cursor: pointer;display: block;width: 100%;margin-bottom: 0;padding: 0.3em;box-sizing: border-box;text-align: center;}#sk-container-id-2 label.sk-toggleable__label-arrow:before {content: \"▸\";float: left;margin-right: 0.25em;color: #696969;}#sk-container-id-2 label.sk-toggleable__label-arrow:hover:before {color: black;}#sk-container-id-2 div.sk-estimator:hover label.sk-toggleable__label-arrow:before {color: black;}#sk-container-id-2 div.sk-toggleable__content {max-height: 0;max-width: 0;overflow: hidden;text-align: left;background-color: #f0f8ff;}#sk-container-id-2 div.sk-toggleable__content pre {margin: 0.2em;color: black;border-radius: 0.25em;background-color: #f0f8ff;}#sk-container-id-2 input.sk-toggleable__control:checked~div.sk-toggleable__content {max-height: 200px;max-width: 100%;overflow: auto;}#sk-container-id-2 input.sk-toggleable__control:checked~label.sk-toggleable__label-arrow:before {content: \"▾\";}#sk-container-id-2 div.sk-estimator input.sk-toggleable__control:checked~label.sk-toggleable__label {background-color: #d4ebff;}#sk-container-id-2 div.sk-label input.sk-toggleable__control:checked~label.sk-toggleable__label {background-color: #d4ebff;}#sk-container-id-2 input.sk-hidden--visually {border: 0;clip: rect(1px 1px 1px 1px);clip: rect(1px, 1px, 1px, 1px);height: 1px;margin: -1px;overflow: hidden;padding: 0;position: absolute;width: 1px;}#sk-container-id-2 div.sk-estimator {font-family: monospace;background-color: #f0f8ff;border: 1px dotted black;border-radius: 0.25em;box-sizing: border-box;margin-bottom: 0.5em;}#sk-container-id-2 div.sk-estimator:hover {background-color: #d4ebff;}#sk-container-id-2 div.sk-parallel-item::after {content: \"\";width: 100%;border-bottom: 1px solid gray;flex-grow: 1;}#sk-container-id-2 div.sk-label:hover label.sk-toggleable__label {background-color: #d4ebff;}#sk-container-id-2 div.sk-serial::before {content: \"\";position: absolute;border-left: 1px solid gray;box-sizing: border-box;top: 0;bottom: 0;left: 50%;z-index: 0;}#sk-container-id-2 div.sk-serial {display: flex;flex-direction: column;align-items: center;background-color: white;padding-right: 0.2em;padding-left: 0.2em;position: relative;}#sk-container-id-2 div.sk-item {position: relative;z-index: 1;}#sk-container-id-2 div.sk-parallel {display: flex;align-items: stretch;justify-content: center;background-color: white;position: relative;}#sk-container-id-2 div.sk-item::before, #sk-container-id-2 div.sk-parallel-item::before {content: \"\";position: absolute;border-left: 1px solid gray;box-sizing: border-box;top: 0;bottom: 0;left: 50%;z-index: -1;}#sk-container-id-2 div.sk-parallel-item {display: flex;flex-direction: column;z-index: 1;position: relative;background-color: white;}#sk-container-id-2 div.sk-parallel-item:first-child::after {align-self: flex-end;width: 50%;}#sk-container-id-2 div.sk-parallel-item:last-child::after {align-self: flex-start;width: 50%;}#sk-container-id-2 div.sk-parallel-item:only-child::after {width: 0;}#sk-container-id-2 div.sk-dashed-wrapped {border: 1px dashed gray;margin: 0 0.4em 0.5em 0.4em;box-sizing: border-box;padding-bottom: 0.4em;background-color: white;}#sk-container-id-2 div.sk-label label {font-family: monospace;font-weight: bold;display: inline-block;line-height: 1.2em;}#sk-container-id-2 div.sk-label-container {text-align: center;}#sk-container-id-2 div.sk-container {/* jupyter's `normalize.less` sets `[hidden] { display: none; }` but bootstrap.min.css set `[hidden] { display: none !important; }` so we also need the `!important` here to be able to override the default hidden behavior on the sphinx rendered scikit-learn.org. See: https://github.com/scikit-learn/scikit-learn/issues/21755 */display: inline-block !important;position: relative;}#sk-container-id-2 div.sk-text-repr-fallback {display: none;}</style><div id=\"sk-container-id-2\" class=\"sk-top-container\"><div class=\"sk-text-repr-fallback\"><pre>GradientBoostingClassifier(random_state=42)</pre><b>In a Jupyter environment, please rerun this cell to show the HTML representation or trust the notebook. <br />On GitHub, the HTML representation is unable to render, please try loading this page with nbviewer.org.</b></div><div class=\"sk-container\" hidden><div class=\"sk-item\"><div class=\"sk-estimator sk-toggleable\"><input class=\"sk-toggleable__control sk-hidden--visually\" id=\"sk-estimator-id-2\" type=\"checkbox\" checked><label for=\"sk-estimator-id-2\" class=\"sk-toggleable__label sk-toggleable__label-arrow\">GradientBoostingClassifier</label><div class=\"sk-toggleable__content\"><pre>GradientBoostingClassifier(random_state=42)</pre></div></div></div></div></div>"
      ],
      "text/plain": [
       "GradientBoostingClassifier(random_state=42)"
      ]
     },
     "execution_count": 22,
     "metadata": {},
     "output_type": "execute_result"
    }
   ],
   "source": [
    "# Gradient Boosting Model\n",
    "gb_model = GradientBoostingClassifier(random_state=42)\n",
    "gb_model.fit(X_train, y_train)"
   ]
  },
  {
   "cell_type": "markdown",
   "id": "2a741cc1-d0ba-48d4-8de3-7b1b2be546ed",
   "metadata": {},
   "source": [
    "Cross-validation: Here, we are going to improve the model's performance and stability using Cross-Validation technique for the Gradient Boosting model."
   ]
  },
  {
   "cell_type": "code",
   "execution_count": 23,
   "id": "b82311db-b224-47ff-8946-1948a17180ca",
   "metadata": {},
   "outputs": [
    {
     "name": "stderr",
     "output_type": "stream",
     "text": [
      "C:\\Users\\mercy\\anaconda3\\Lib\\site-packages\\sklearn\\model_selection\\_split.py:700: UserWarning: The least populated class in y has only 3 members, which is less than n_splits=5.\n",
      "  warnings.warn(\n"
     ]
    },
    {
     "name": "stdout",
     "output_type": "stream",
     "text": [
      "\n",
      "Gradient Boosting Cross-Validation Accuracy Scores: [0.87139423 0.86778846 0.87139423 0.87019231 0.87019231]\n"
     ]
    }
   ],
   "source": [
    "# Cross-validation for Gradient Boosting\n",
    "gb_cv_scores = cross_val_score(gb_model, X_train, y_train, cv=cv, scoring='accuracy')\n",
    "print(\"\\nGradient Boosting Cross-Validation Accuracy Scores:\", gb_cv_scores)\n"
   ]
  },
  {
   "cell_type": "code",
   "execution_count": 24,
   "id": "0618d937-f55a-4139-bb68-3dbb8e72aab0",
   "metadata": {},
   "outputs": [
    {
     "name": "stdout",
     "output_type": "stream",
     "text": [
      "Mean CV Accuracy: 0.8701923076923077\n"
     ]
    }
   ],
   "source": [
    "#To check the mean value for the CV accuracy\n",
    "print(\"Mean CV Accuracy:\", np.mean(gb_cv_scores))"
   ]
  },
  {
   "cell_type": "markdown",
   "id": "7dbf68c3-c1a4-4a47-9fd6-8e20579043d6",
   "metadata": {},
   "source": [
    "Prediction Evaluation for Gradient Boosting Model:\n",
    "Measures the accuracy, precision, recall, and F1-score of the Gradient Boosting model."
   ]
  },
  {
   "cell_type": "code",
   "execution_count": 26,
   "id": "c1a5d3cb-0560-4c5c-9eb2-5caa7297df43",
   "metadata": {},
   "outputs": [
    {
     "name": "stdout",
     "output_type": "stream",
     "text": [
      "\n",
      "Gradient Boosting Classification Report:\n",
      "              precision    recall  f1-score   support\n",
      "\n",
      "           0       0.00      0.00      0.00         1\n",
      "           1       0.00      0.00      0.00        15\n",
      "           2       0.87      1.00      0.93       910\n",
      "           3       0.00      0.00      0.00        83\n",
      "           4       0.00      0.00      0.00        32\n",
      "\n",
      "    accuracy                           0.87      1041\n",
      "   macro avg       0.17      0.20      0.19      1041\n",
      "weighted avg       0.76      0.87      0.81      1041\n",
      "\n"
     ]
    },
    {
     "name": "stderr",
     "output_type": "stream",
     "text": [
      "C:\\Users\\mercy\\anaconda3\\Lib\\site-packages\\sklearn\\metrics\\_classification.py:1344: UndefinedMetricWarning: Precision and F-score are ill-defined and being set to 0.0 in labels with no predicted samples. Use `zero_division` parameter to control this behavior.\n",
      "  _warn_prf(average, modifier, msg_start, len(result))\n",
      "C:\\Users\\mercy\\anaconda3\\Lib\\site-packages\\sklearn\\metrics\\_classification.py:1344: UndefinedMetricWarning: Precision and F-score are ill-defined and being set to 0.0 in labels with no predicted samples. Use `zero_division` parameter to control this behavior.\n",
      "  _warn_prf(average, modifier, msg_start, len(result))\n",
      "C:\\Users\\mercy\\anaconda3\\Lib\\site-packages\\sklearn\\metrics\\_classification.py:1344: UndefinedMetricWarning: Precision and F-score are ill-defined and being set to 0.0 in labels with no predicted samples. Use `zero_division` parameter to control this behavior.\n",
      "  _warn_prf(average, modifier, msg_start, len(result))\n"
     ]
    }
   ],
   "source": [
    "# Predictions and evaluation for Gradient Boosting\n",
    "y_pred_gb = gb_model.predict(X_test)\n",
    "print(\"\\nGradient Boosting Classification Report:\")\n",
    "print(classification_report(y_test, y_pred_gb))\n"
   ]
  },
  {
   "cell_type": "code",
   "execution_count": 27,
   "id": "18f9f9c9-5317-42ec-a635-ca127f43c742",
   "metadata": {},
   "outputs": [
    {
     "name": "stdout",
     "output_type": "stream",
     "text": [
      "Accuracy: 0.8712776176753122\n"
     ]
    }
   ],
   "source": [
    "#Accuracy Score\n",
    "print(\"Accuracy:\", accuracy_score(y_test, y_pred_gb))"
   ]
  },
  {
   "cell_type": "code",
   "execution_count": 28,
   "id": "2491af5f-e2b6-4499-b7b8-e4c4283be82d",
   "metadata": {},
   "outputs": [
    {
     "name": "stdout",
     "output_type": "stream",
     "text": [
      "Precision: 0.7645734157035043\n"
     ]
    },
    {
     "name": "stderr",
     "output_type": "stream",
     "text": [
      "C:\\Users\\mercy\\anaconda3\\Lib\\site-packages\\sklearn\\metrics\\_classification.py:1344: UndefinedMetricWarning: Precision is ill-defined and being set to 0.0 in labels with no predicted samples. Use `zero_division` parameter to control this behavior.\n",
      "  _warn_prf(average, modifier, msg_start, len(result))\n"
     ]
    }
   ],
   "source": [
    "#Precision Score\n",
    "print(\"Precision:\", precision_score(y_test, y_pred_gb, average='weighted'))"
   ]
  },
  {
   "cell_type": "code",
   "execution_count": 29,
   "id": "3abbc40e-bcf2-43ee-b966-393cdc3a4fb8",
   "metadata": {},
   "outputs": [
    {
     "name": "stdout",
     "output_type": "stream",
     "text": [
      "Recall: 0.8712776176753122\n"
     ]
    }
   ],
   "source": [
    "#Recall Score\n",
    "print(\"Recall:\", recall_score(y_test, y_pred_gb, average='weighted'))"
   ]
  },
  {
   "cell_type": "code",
   "execution_count": 30,
   "id": "120cc25c-66a3-4fe0-8548-6e41c206ef25",
   "metadata": {},
   "outputs": [
    {
     "name": "stdout",
     "output_type": "stream",
     "text": [
      "F1 Score: 0.8144454361423052\n"
     ]
    }
   ],
   "source": [
    "#F1 Score\n",
    "print(\"F1 Score:\", f1_score(y_test, y_pred_gb, average='weighted'))"
   ]
  },
  {
   "cell_type": "markdown",
   "id": "ee8b2526-baf0-4a39-bd20-90318f5fe60a",
   "metadata": {},
   "source": [
    "Conclusion: "
   ]
  },
  {
   "cell_type": "markdown",
   "id": "e1ef3a4e-dd7a-4387-9b3b-7ecc33e90ec9",
   "metadata": {},
   "source": [
    "The Gradient Boosting Accuracy is 87.13% and the Random Forest accuracy is 86.55%. So, comparing these two models' accuracy, the Gradient Boosting has more accuracy. Recall making it better at identifying all crash severity cases. However, Random Forest showed a higher precision of 78.99% and Gradient Boosting has a precision of 76.45%. In conclusion, Gradient Boosting is better for maximizing overall accuracy, while Random Forest is preferable if precision is more critical."
   ]
  },
  {
   "cell_type": "code",
   "execution_count": null,
   "id": "c00d73c1-15fd-4adf-ae88-54d38089416a",
   "metadata": {},
   "outputs": [],
   "source": []
  },
  {
   "cell_type": "code",
   "execution_count": null,
   "id": "ebc29cf6-087f-481c-a106-6fe9ab48eb90",
   "metadata": {},
   "outputs": [],
   "source": []
  },
  {
   "cell_type": "code",
   "execution_count": null,
   "id": "01ddf286-73ad-45b0-adcc-ccb87ea8d313",
   "metadata": {},
   "outputs": [],
   "source": []
  }
 ],
 "metadata": {
  "kernelspec": {
   "display_name": "Python 3 (ipykernel)",
   "language": "python",
   "name": "python3"
  },
  "language_info": {
   "codemirror_mode": {
    "name": "ipython",
    "version": 3
   },
   "file_extension": ".py",
   "mimetype": "text/x-python",
   "name": "python",
   "nbconvert_exporter": "python",
   "pygments_lexer": "ipython3",
   "version": "3.11.7"
  }
 },
 "nbformat": 4,
 "nbformat_minor": 5
}
