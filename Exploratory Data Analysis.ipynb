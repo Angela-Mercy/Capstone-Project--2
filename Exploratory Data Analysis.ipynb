{
 "cells": [
  {
   "cell_type": "markdown",
   "id": "f57c4c61-6017-4b2e-a53e-777813ff96eb",
   "metadata": {},
   "source": [
    "Exploratory Data Analysis"
   ]
  },
  {
   "cell_type": "markdown",
   "id": "57f03efd-fca2-4627-9278-aae42c3a5e79",
   "metadata": {},
   "source": [
    "The exploratory data analysis (EDA) for this project focuses on understanding the key factors contributing to the severity of traffic crashes in Chicago. By examining variables such as weather conditions, speed limits, road direction, road condition, and traffic way type, we aim to uncover patterns and relationships that influence crash severity."
   ]
  },
  {
   "cell_type": "markdown",
   "id": "dab45d4e-381d-4b6a-af57-db579f05fa98",
   "metadata": {},
   "source": [
    "Import - Libraries: will help to use the modules that contain functions, and methods"
   ]
  },
  {
   "cell_type": "code",
   "execution_count": 67,
   "id": "8ee158f3-452c-4ba3-a34d-e5606ae79c24",
   "metadata": {},
   "outputs": [],
   "source": [
    "import pandas as pd\n",
    "import os\n",
    "import numpy as np\n",
    "import seaborn as sns\n",
    "import matplotlib.pyplot as plt\n",
    "from sklearn.decomposition import PCA\n",
    "from sklearn.preprocessing import scale\n",
    "from sklearn.preprocessing import StandardScaler"
   ]
  },
  {
   "cell_type": "markdown",
   "id": "fec80b8f-df2b-4ed4-9e93-ac65d89b77e1",
   "metadata": {},
   "source": [
    "Data Collection: Data collection is the process of gathering information from various formatted types. Here, the data is in CSV file."
   ]
  },
  {
   "cell_type": "code",
   "execution_count": 68,
   "id": "5eea78f2-3835-48d7-bceb-63d0962e31c6",
   "metadata": {},
   "outputs": [],
   "source": [
    "#loading the data 'Car Crashes Chicago in 2022' from the CSV file to the variable \"Car_crash\"\n",
    "#using the method 'read_csv'\n",
    "Car_crash = pd.read_csv('Car Crashes - Chicago in 2022 .csv')"
   ]
  },
  {
   "cell_type": "code",
   "execution_count": 69,
   "id": "a9848107-577a-48ba-8ca7-284327d18a26",
   "metadata": {},
   "outputs": [
    {
     "data": {
      "text/html": [
       "<div>\n",
       "<style scoped>\n",
       "    .dataframe tbody tr th:only-of-type {\n",
       "        vertical-align: middle;\n",
       "    }\n",
       "\n",
       "    .dataframe tbody tr th {\n",
       "        vertical-align: top;\n",
       "    }\n",
       "\n",
       "    .dataframe thead th {\n",
       "        text-align: right;\n",
       "    }\n",
       "</style>\n",
       "<table border=\"1\" class=\"dataframe\">\n",
       "  <thead>\n",
       "    <tr style=\"text-align: right;\">\n",
       "      <th></th>\n",
       "      <th>CRASH_RECORD_ID</th>\n",
       "      <th>CRASH_DATE_EST_I</th>\n",
       "      <th>CRASH_DATE</th>\n",
       "      <th>POSTED_SPEED_LIMIT</th>\n",
       "      <th>TRAFFIC_CONTROL_DEVICE</th>\n",
       "      <th>DEVICE_CONDITION</th>\n",
       "      <th>WEATHER_CONDITION</th>\n",
       "      <th>LIGHTING_CONDITION</th>\n",
       "      <th>FIRST_CRASH_TYPE</th>\n",
       "      <th>TRAFFICWAY_TYPE</th>\n",
       "      <th>...</th>\n",
       "      <th>INJURIES_NON_INCAPACITATING</th>\n",
       "      <th>INJURIES_REPORTED_NOT_EVIDENT</th>\n",
       "      <th>INJURIES_NO_INDICATION</th>\n",
       "      <th>INJURIES_UNKNOWN</th>\n",
       "      <th>CRASH_HOUR</th>\n",
       "      <th>CRASH_DAY_OF_WEEK</th>\n",
       "      <th>CRASH_MONTH</th>\n",
       "      <th>LATITUDE</th>\n",
       "      <th>LONGITUDE</th>\n",
       "      <th>LOCATION</th>\n",
       "    </tr>\n",
       "  </thead>\n",
       "  <tbody>\n",
       "    <tr>\n",
       "      <th>0</th>\n",
       "      <td>359bf9f5872d646bb63576e55b1e0b480dc93c2b935ab5...</td>\n",
       "      <td>NaN</td>\n",
       "      <td>01/31/22</td>\n",
       "      <td>25</td>\n",
       "      <td>NO CONTROLS</td>\n",
       "      <td>NO CONTROLS</td>\n",
       "      <td>CLEAR</td>\n",
       "      <td>DARKNESS</td>\n",
       "      <td>REAR END</td>\n",
       "      <td>ONE-WAY</td>\n",
       "      <td>...</td>\n",
       "      <td>0.0</td>\n",
       "      <td>0.0</td>\n",
       "      <td>5.0</td>\n",
       "      <td>0.0</td>\n",
       "      <td>19</td>\n",
       "      <td>2</td>\n",
       "      <td>1</td>\n",
       "      <td>NaN</td>\n",
       "      <td>NaN</td>\n",
       "      <td>NaN</td>\n",
       "    </tr>\n",
       "    <tr>\n",
       "      <th>1</th>\n",
       "      <td>36360857c079418cba1b1d70cf653595bbfb4566de8fcb...</td>\n",
       "      <td>Y</td>\n",
       "      <td>01/01/22</td>\n",
       "      <td>10</td>\n",
       "      <td>NO CONTROLS</td>\n",
       "      <td>NO CONTROLS</td>\n",
       "      <td>SNOW</td>\n",
       "      <td>DARKNESS, LIGHTED ROAD</td>\n",
       "      <td>ANGLE</td>\n",
       "      <td>PARKING LOT</td>\n",
       "      <td>...</td>\n",
       "      <td>0.0</td>\n",
       "      <td>0.0</td>\n",
       "      <td>2.0</td>\n",
       "      <td>0.0</td>\n",
       "      <td>16</td>\n",
       "      <td>7</td>\n",
       "      <td>1</td>\n",
       "      <td>NaN</td>\n",
       "      <td>NaN</td>\n",
       "      <td>NaN</td>\n",
       "    </tr>\n",
       "    <tr>\n",
       "      <th>2</th>\n",
       "      <td>4a474e553cbf4d17eeb20981bf2c03572ac566cf1ba3a2...</td>\n",
       "      <td>NaN</td>\n",
       "      <td>01/30/22</td>\n",
       "      <td>25</td>\n",
       "      <td>NO CONTROLS</td>\n",
       "      <td>NO CONTROLS</td>\n",
       "      <td>CLEAR</td>\n",
       "      <td>DAYLIGHT</td>\n",
       "      <td>ANGLE</td>\n",
       "      <td>ONE-WAY</td>\n",
       "      <td>...</td>\n",
       "      <td>0.0</td>\n",
       "      <td>0.0</td>\n",
       "      <td>2.0</td>\n",
       "      <td>0.0</td>\n",
       "      <td>8</td>\n",
       "      <td>1</td>\n",
       "      <td>1</td>\n",
       "      <td>NaN</td>\n",
       "      <td>NaN</td>\n",
       "      <td>NaN</td>\n",
       "    </tr>\n",
       "    <tr>\n",
       "      <th>3</th>\n",
       "      <td>8a4c06bd70d219f56aaf602db8bdb4e11e0d0825cfc8ac...</td>\n",
       "      <td>NaN</td>\n",
       "      <td>05/28/22</td>\n",
       "      <td>25</td>\n",
       "      <td>NO CONTROLS</td>\n",
       "      <td>NO CONTROLS</td>\n",
       "      <td>CLEAR</td>\n",
       "      <td>DAYLIGHT</td>\n",
       "      <td>SIDESWIPE SAME DIRECTION</td>\n",
       "      <td>ONE-WAY</td>\n",
       "      <td>...</td>\n",
       "      <td>0.0</td>\n",
       "      <td>0.0</td>\n",
       "      <td>2.0</td>\n",
       "      <td>0.0</td>\n",
       "      <td>17</td>\n",
       "      <td>7</td>\n",
       "      <td>5</td>\n",
       "      <td>NaN</td>\n",
       "      <td>NaN</td>\n",
       "      <td>NaN</td>\n",
       "    </tr>\n",
       "    <tr>\n",
       "      <th>4</th>\n",
       "      <td>9bcf6196e48e1d1246507609659e37d210ac45ed650d6b...</td>\n",
       "      <td>NaN</td>\n",
       "      <td>04/16/22</td>\n",
       "      <td>10</td>\n",
       "      <td>NO CONTROLS</td>\n",
       "      <td>NO CONTROLS</td>\n",
       "      <td>CLEAR</td>\n",
       "      <td>DAYLIGHT</td>\n",
       "      <td>PARKED MOTOR VEHICLE</td>\n",
       "      <td>PARKING LOT</td>\n",
       "      <td>...</td>\n",
       "      <td>0.0</td>\n",
       "      <td>0.0</td>\n",
       "      <td>1.0</td>\n",
       "      <td>0.0</td>\n",
       "      <td>11</td>\n",
       "      <td>7</td>\n",
       "      <td>4</td>\n",
       "      <td>NaN</td>\n",
       "      <td>NaN</td>\n",
       "      <td>NaN</td>\n",
       "    </tr>\n",
       "  </tbody>\n",
       "</table>\n",
       "<p>5 rows × 48 columns</p>\n",
       "</div>"
      ],
      "text/plain": [
       "                                     CRASH_RECORD_ID CRASH_DATE_EST_I  \\\n",
       "0  359bf9f5872d646bb63576e55b1e0b480dc93c2b935ab5...              NaN   \n",
       "1  36360857c079418cba1b1d70cf653595bbfb4566de8fcb...                Y   \n",
       "2  4a474e553cbf4d17eeb20981bf2c03572ac566cf1ba3a2...              NaN   \n",
       "3  8a4c06bd70d219f56aaf602db8bdb4e11e0d0825cfc8ac...              NaN   \n",
       "4  9bcf6196e48e1d1246507609659e37d210ac45ed650d6b...              NaN   \n",
       "\n",
       "  CRASH_DATE  POSTED_SPEED_LIMIT TRAFFIC_CONTROL_DEVICE DEVICE_CONDITION  \\\n",
       "0   01/31/22                  25            NO CONTROLS      NO CONTROLS   \n",
       "1   01/01/22                  10            NO CONTROLS      NO CONTROLS   \n",
       "2   01/30/22                  25            NO CONTROLS      NO CONTROLS   \n",
       "3   05/28/22                  25            NO CONTROLS      NO CONTROLS   \n",
       "4   04/16/22                  10            NO CONTROLS      NO CONTROLS   \n",
       "\n",
       "  WEATHER_CONDITION      LIGHTING_CONDITION          FIRST_CRASH_TYPE  \\\n",
       "0             CLEAR                DARKNESS                  REAR END   \n",
       "1              SNOW  DARKNESS, LIGHTED ROAD                     ANGLE   \n",
       "2             CLEAR                DAYLIGHT                     ANGLE   \n",
       "3             CLEAR                DAYLIGHT  SIDESWIPE SAME DIRECTION   \n",
       "4             CLEAR                DAYLIGHT      PARKED MOTOR VEHICLE   \n",
       "\n",
       "  TRAFFICWAY_TYPE  ...  INJURIES_NON_INCAPACITATING  \\\n",
       "0         ONE-WAY  ...                          0.0   \n",
       "1     PARKING LOT  ...                          0.0   \n",
       "2         ONE-WAY  ...                          0.0   \n",
       "3         ONE-WAY  ...                          0.0   \n",
       "4     PARKING LOT  ...                          0.0   \n",
       "\n",
       "  INJURIES_REPORTED_NOT_EVIDENT INJURIES_NO_INDICATION INJURIES_UNKNOWN  \\\n",
       "0                           0.0                    5.0              0.0   \n",
       "1                           0.0                    2.0              0.0   \n",
       "2                           0.0                    2.0              0.0   \n",
       "3                           0.0                    2.0              0.0   \n",
       "4                           0.0                    1.0              0.0   \n",
       "\n",
       "  CRASH_HOUR CRASH_DAY_OF_WEEK CRASH_MONTH LATITUDE LONGITUDE LOCATION  \n",
       "0         19                 2           1      NaN       NaN      NaN  \n",
       "1         16                 7           1      NaN       NaN      NaN  \n",
       "2          8                 1           1      NaN       NaN      NaN  \n",
       "3         17                 7           5      NaN       NaN      NaN  \n",
       "4         11                 7           4      NaN       NaN      NaN  \n",
       "\n",
       "[5 rows x 48 columns]"
      ]
     },
     "execution_count": 69,
     "metadata": {},
     "output_type": "execute_result"
    }
   ],
   "source": [
    "#To see the sample of five rows, use .head() method.\n",
    "Car_crash.head()"
   ]
  },
  {
   "cell_type": "code",
   "execution_count": 70,
   "id": "8dba3e30-7c6b-478a-a50e-a56ccdd002aa",
   "metadata": {},
   "outputs": [],
   "source": [
    "#loading cleaned and saved 'Car Crashes Chicago in 2022' data into the new dataframe \n",
    "Cleaned_Crashes_data = pd.read_csv('Car_Carshes_cleaned.csv')"
   ]
  },
  {
   "cell_type": "code",
   "execution_count": 71,
   "id": "4ceb4da6-d1db-4e66-97af-e1dcee3b0a3e",
   "metadata": {},
   "outputs": [
    {
     "name": "stdout",
     "output_type": "stream",
     "text": [
      "<class 'pandas.core.frame.DataFrame'>\n",
      "RangeIndex: 42972 entries, 0 to 42971\n",
      "Data columns (total 10 columns):\n",
      " #   Column                Non-Null Count  Dtype \n",
      "---  ------                --------------  ----- \n",
      " 0   CRASH_DATE            42972 non-null  object\n",
      " 1   POSTED_SPEED_LIMIT    42972 non-null  int64 \n",
      " 2   WEATHER_CONDITION     42972 non-null  object\n",
      " 3   TRAFFICWAY_TYPE       42972 non-null  object\n",
      " 4   ROADWAY_SURFACE_COND  42972 non-null  object\n",
      " 5   STREET_DIRECTION      42972 non-null  object\n",
      " 6   MOST_SEVERE_INJURY    42972 non-null  object\n",
      " 7   CRASH_HOUR            42972 non-null  int64 \n",
      " 8   CRASH_DAY_OF_WEEK     42972 non-null  int64 \n",
      " 9   CRASH_MONTH           42972 non-null  int64 \n",
      "dtypes: int64(4), object(6)\n",
      "memory usage: 3.3+ MB\n"
     ]
    }
   ],
   "source": [
    "#using info() method to see the columns, Non-null counts, and dtype\n",
    "Cleaned_Crashes_data.info()"
   ]
  },
  {
   "cell_type": "code",
   "execution_count": 72,
   "id": "0e23f426-d4b1-43ab-bba8-0b9cdf7379ca",
   "metadata": {},
   "outputs": [
    {
     "data": {
      "text/html": [
       "<div>\n",
       "<style scoped>\n",
       "    .dataframe tbody tr th:only-of-type {\n",
       "        vertical-align: middle;\n",
       "    }\n",
       "\n",
       "    .dataframe tbody tr th {\n",
       "        vertical-align: top;\n",
       "    }\n",
       "\n",
       "    .dataframe thead th {\n",
       "        text-align: right;\n",
       "    }\n",
       "</style>\n",
       "<table border=\"1\" class=\"dataframe\">\n",
       "  <thead>\n",
       "    <tr style=\"text-align: right;\">\n",
       "      <th></th>\n",
       "      <th>CRASH_DATE</th>\n",
       "      <th>POSTED_SPEED_LIMIT</th>\n",
       "      <th>WEATHER_CONDITION</th>\n",
       "      <th>TRAFFICWAY_TYPE</th>\n",
       "      <th>ROADWAY_SURFACE_COND</th>\n",
       "      <th>STREET_DIRECTION</th>\n",
       "      <th>MOST_SEVERE_INJURY</th>\n",
       "      <th>CRASH_HOUR</th>\n",
       "      <th>CRASH_DAY_OF_WEEK</th>\n",
       "      <th>CRASH_MONTH</th>\n",
       "    </tr>\n",
       "  </thead>\n",
       "  <tbody>\n",
       "    <tr>\n",
       "      <th>0</th>\n",
       "      <td>01/31/22</td>\n",
       "      <td>25</td>\n",
       "      <td>CLEAR</td>\n",
       "      <td>ONE-WAY</td>\n",
       "      <td>DRY</td>\n",
       "      <td>W</td>\n",
       "      <td>NO INDICATION OF INJURY</td>\n",
       "      <td>19</td>\n",
       "      <td>2</td>\n",
       "      <td>1</td>\n",
       "    </tr>\n",
       "    <tr>\n",
       "      <th>1</th>\n",
       "      <td>01/01/22</td>\n",
       "      <td>10</td>\n",
       "      <td>SNOW</td>\n",
       "      <td>PARKING LOT</td>\n",
       "      <td>SNOW OR SLUSH</td>\n",
       "      <td>W</td>\n",
       "      <td>NO INDICATION OF INJURY</td>\n",
       "      <td>16</td>\n",
       "      <td>7</td>\n",
       "      <td>1</td>\n",
       "    </tr>\n",
       "    <tr>\n",
       "      <th>2</th>\n",
       "      <td>01/30/22</td>\n",
       "      <td>25</td>\n",
       "      <td>CLEAR</td>\n",
       "      <td>ONE-WAY</td>\n",
       "      <td>SNOW OR SLUSH</td>\n",
       "      <td>W</td>\n",
       "      <td>NO INDICATION OF INJURY</td>\n",
       "      <td>8</td>\n",
       "      <td>1</td>\n",
       "      <td>1</td>\n",
       "    </tr>\n",
       "    <tr>\n",
       "      <th>3</th>\n",
       "      <td>05/28/22</td>\n",
       "      <td>25</td>\n",
       "      <td>CLEAR</td>\n",
       "      <td>ONE-WAY</td>\n",
       "      <td>DRY</td>\n",
       "      <td>W</td>\n",
       "      <td>NO INDICATION OF INJURY</td>\n",
       "      <td>17</td>\n",
       "      <td>7</td>\n",
       "      <td>5</td>\n",
       "    </tr>\n",
       "    <tr>\n",
       "      <th>4</th>\n",
       "      <td>04/16/22</td>\n",
       "      <td>10</td>\n",
       "      <td>CLEAR</td>\n",
       "      <td>PARKING LOT</td>\n",
       "      <td>DRY</td>\n",
       "      <td>W</td>\n",
       "      <td>NO INDICATION OF INJURY</td>\n",
       "      <td>11</td>\n",
       "      <td>7</td>\n",
       "      <td>4</td>\n",
       "    </tr>\n",
       "  </tbody>\n",
       "</table>\n",
       "</div>"
      ],
      "text/plain": [
       "  CRASH_DATE  POSTED_SPEED_LIMIT WEATHER_CONDITION TRAFFICWAY_TYPE  \\\n",
       "0   01/31/22                  25             CLEAR         ONE-WAY   \n",
       "1   01/01/22                  10              SNOW     PARKING LOT   \n",
       "2   01/30/22                  25             CLEAR         ONE-WAY   \n",
       "3   05/28/22                  25             CLEAR         ONE-WAY   \n",
       "4   04/16/22                  10             CLEAR     PARKING LOT   \n",
       "\n",
       "  ROADWAY_SURFACE_COND STREET_DIRECTION       MOST_SEVERE_INJURY  CRASH_HOUR  \\\n",
       "0                  DRY                W  NO INDICATION OF INJURY          19   \n",
       "1        SNOW OR SLUSH                W  NO INDICATION OF INJURY          16   \n",
       "2        SNOW OR SLUSH                W  NO INDICATION OF INJURY           8   \n",
       "3                  DRY                W  NO INDICATION OF INJURY          17   \n",
       "4                  DRY                W  NO INDICATION OF INJURY          11   \n",
       "\n",
       "   CRASH_DAY_OF_WEEK  CRASH_MONTH  \n",
       "0                  2            1  \n",
       "1                  7            1  \n",
       "2                  1            1  \n",
       "3                  7            5  \n",
       "4                  7            4  "
      ]
     },
     "execution_count": 72,
     "metadata": {},
     "output_type": "execute_result"
    }
   ],
   "source": [
    "#To see the sample of five rows, use .head() method.\n",
    "Cleaned_Crashes_data.head()"
   ]
  },
  {
   "cell_type": "markdown",
   "id": "f8828665-43a6-4ce8-82f4-3b8b2de4e0c0",
   "metadata": {},
   "source": [
    "Exploring the Data: \n",
    "Now, explore columns that are key insights to predict the \"Most Severe Injury\""
   ]
  },
  {
   "cell_type": "code",
   "execution_count": 73,
   "id": "204c5ff5-00df-4ef9-a062-96c378af3190",
   "metadata": {},
   "outputs": [],
   "source": [
    "#checking null values in 'CRASH_DATE'\n",
    "missing_dates = Cleaned_Crashes_data['CRASH_DATE'].isnull()\n",
    "missing_count = missing_dates.sum()"
   ]
  },
  {
   "cell_type": "code",
   "execution_count": 74,
   "id": "cb95b86e-6622-401a-8092-acb417236901",
   "metadata": {},
   "outputs": [
    {
     "name": "stdout",
     "output_type": "stream",
     "text": [
      "0\n"
     ]
    }
   ],
   "source": [
    "print(missing_count)"
   ]
  },
  {
   "cell_type": "code",
   "execution_count": 75,
   "id": "d3df2fa6-4b94-4ff4-846d-62d986c3e14b",
   "metadata": {},
   "outputs": [
    {
     "name": "stdout",
     "output_type": "stream",
     "text": [
      "['01/31/22' '01/01/22' '01/30/22' '05/28/22' '04/16/22' '04/12/22'\n",
      " '03/05/22' '04/04/22' '03/20/22' '02/08/22' '04/30/22' '05/05/22'\n",
      " '02/23/22' '03/14/22' '04/09/22' '01/23/22' '05/30/22' '01/21/22'\n",
      " '05/26/22' '04/27/22' '01/24/22' '04/05/22' '01/28/22' '04/23/22'\n",
      " '03/21/22' '03/19/22' '04/28/22' '05/16/22' '05/17/22' '01/03/22'\n",
      " '03/16/22' '03/11/22' '05/06/22' '05/18/22' '02/02/22' '03/01/22'\n",
      " '04/11/22' '05/25/22' '03/15/22' '04/25/22' '02/07/22' '02/22/22'\n",
      " '01/06/22' '02/14/22' '03/26/22' '02/04/22' '01/16/22' '01/13/22'\n",
      " '03/22/22' '03/12/22' '04/21/22' '05/12/22' '03/24/22' '02/11/22'\n",
      " '04/14/22' '03/18/22' '05/08/22' '03/13/22' '02/18/22' '02/24/22'\n",
      " '01/26/22' '05/11/22' '01/19/22' '01/10/22' '05/23/22' '05/29/22'\n",
      " '01/12/22' '04/24/22' '02/05/22' '03/07/22' '01/15/22' '02/01/22'\n",
      " '01/22/22' '03/08/22' '01/02/22' '04/22/22' '01/09/22' '03/29/22'\n",
      " '05/09/22' '04/07/22' '01/29/22' '04/18/22' '02/21/22' '05/02/22'\n",
      " '03/17/22' '04/17/22' '01/14/22' '03/23/22' '02/26/22' '01/11/22'\n",
      " '05/27/22' '05/21/22' '05/15/22' '05/03/22' '01/05/22' '03/04/22'\n",
      " '02/09/22' '01/25/22' '04/02/22' '05/24/22' '04/26/22' '04/29/22'\n",
      " '05/14/22' '04/13/22' '02/16/22' '03/25/22' '01/20/22' '02/06/22'\n",
      " '05/22/22' '02/28/22' '05/19/22' '04/19/22' '02/15/22' '03/30/22'\n",
      " '01/17/22' '05/13/22' '03/02/22' '05/01/22' '04/15/22' '05/04/22'\n",
      " '05/07/22' '03/10/22' '02/12/22' '04/01/22' '04/03/22' '02/17/22'\n",
      " '02/19/22' '05/10/22' '04/06/22' '03/31/22' '02/20/22' '03/27/22'\n",
      " '02/25/22' '02/03/22' '03/28/22' '04/20/22' '02/27/22' '03/03/22'\n",
      " '05/31/22' '03/06/22' '02/13/22' '01/08/22' '04/10/22' '05/20/22'\n",
      " '01/27/22' '02/10/22' '01/18/22' '04/08/22' '01/04/22' '01/07/22'\n",
      " '03/09/22' '#REF!']\n"
     ]
    }
   ],
   "source": [
    "# To see no. of unique entry values in 'CRASH_DATE' \n",
    "print(Cleaned_Crashes_data['CRASH_DATE'].unique())"
   ]
  },
  {
   "cell_type": "markdown",
   "id": "1ab2d444-dc09-4bc8-bc1d-5ce15fa6d264",
   "metadata": {},
   "source": [
    "Here, got an invalid entry for the date, which is '#REF!'"
   ]
  },
  {
   "cell_type": "code",
   "execution_count": 76,
   "id": "aff4b8a4-1b68-4e0f-a7b2-d50aeb4e018d",
   "metadata": {},
   "outputs": [
    {
     "name": "stdout",
     "output_type": "stream",
     "text": [
      "      CRASH_DATE  POSTED_SPEED_LIMIT WEATHER_CONDITION  \\\n",
      "5201         NaT                  30             CLEAR   \n",
      "5202         NaT                  30             CLEAR   \n",
      "5203         NaT                  30              RAIN   \n",
      "5204         NaT                  20             CLEAR   \n",
      "5205         NaT                  20             CLEAR   \n",
      "...          ...                 ...               ...   \n",
      "42967        NaT                  30             CLEAR   \n",
      "42968        NaT                  30             CLEAR   \n",
      "42969        NaT                  30             CLEAR   \n",
      "42970        NaT                  30             CLEAR   \n",
      "42971        NaT                  30             CLEAR   \n",
      "\n",
      "                       TRAFFICWAY_TYPE ROADWAY_SURFACE_COND STREET_DIRECTION  \\\n",
      "5201                       NOT DIVIDED                  DRY                W   \n",
      "5202                           ONE-WAY                  WET                S   \n",
      "5203                       NOT DIVIDED                  WET                S   \n",
      "5204                           ONE-WAY                  DRY                S   \n",
      "5205                       NOT DIVIDED                  WET                S   \n",
      "...                                ...                  ...              ...   \n",
      "42967                      NOT DIVIDED                  DRY                S   \n",
      "42968                      NOT DIVIDED                  DRY                N   \n",
      "42969                      NOT DIVIDED                  DRY                W   \n",
      "42970  DIVIDED - W/MEDIAN (NOT RAISED)                  DRY                N   \n",
      "42971                      PARKING LOT                  DRY                S   \n",
      "\n",
      "             MOST_SEVERE_INJURY  CRASH_HOUR  CRASH_DAY_OF_WEEK  CRASH_MONTH  \n",
      "5201    NO INDICATION OF INJURY           1                  7            3  \n",
      "5202    NO INDICATION OF INJURY          18                  4            4  \n",
      "5203    NO INDICATION OF INJURY          15                  3            2  \n",
      "5204    NO INDICATION OF INJURY          10                  3            3  \n",
      "5205    NO INDICATION OF INJURY          10                  7            2  \n",
      "...                         ...         ...                ...          ...  \n",
      "42967     INCAPACITATING INJURY          12                  2            5  \n",
      "42968  NONINCAPACITATING INJURY           0                  6            4  \n",
      "42969   NO INDICATION OF INJURY          17                  7            2  \n",
      "42970     INCAPACITATING INJURY          10                  7            4  \n",
      "42971   NO INDICATION OF INJURY           2                  3            3  \n",
      "\n",
      "[37771 rows x 10 columns]\n"
     ]
    },
    {
     "name": "stderr",
     "output_type": "stream",
     "text": [
      "C:\\Users\\mercy\\AppData\\Local\\Temp\\ipykernel_20376\\1333388292.py:1: UserWarning: Could not infer format, so each element will be parsed individually, falling back to `dateutil`. To ensure parsing is consistent and as-expected, please specify a format.\n",
      "  Cleaned_Crashes_data['CRASH_DATE'] = pd.to_datetime(Cleaned_Crashes_data['CRASH_DATE'], errors='coerce')\n"
     ]
    }
   ],
   "source": [
    "Cleaned_Crashes_data['CRASH_DATE'] = pd.to_datetime(Cleaned_Crashes_data['CRASH_DATE'], errors='coerce')\n",
    "\n",
    "# Check for rows with invalid dates\n",
    "invalid_dates = Cleaned_Crashes_data[Cleaned_Crashes_data['CRASH_DATE'].isnull()]\n",
    "print(invalid_dates)"
   ]
  },
  {
   "cell_type": "code",
   "execution_count": 77,
   "id": "e55817c0-b392-4fcb-aa8b-ae871b761a81",
   "metadata": {},
   "outputs": [],
   "source": [
    "Cleaned_Crashes_data = Cleaned_Crashes_data.dropna(subset=['CRASH_DATE'])"
   ]
  },
  {
   "cell_type": "code",
   "execution_count": 78,
   "id": "62e68285-22bd-45f7-8056-8f8beba3936f",
   "metadata": {},
   "outputs": [
    {
     "name": "stdout",
     "output_type": "stream",
     "text": [
      "<class 'pandas.core.frame.DataFrame'>\n",
      "Index: 5201 entries, 0 to 5200\n",
      "Data columns (total 10 columns):\n",
      " #   Column                Non-Null Count  Dtype         \n",
      "---  ------                --------------  -----         \n",
      " 0   CRASH_DATE            5201 non-null   datetime64[ns]\n",
      " 1   POSTED_SPEED_LIMIT    5201 non-null   int64         \n",
      " 2   WEATHER_CONDITION     5201 non-null   object        \n",
      " 3   TRAFFICWAY_TYPE       5201 non-null   object        \n",
      " 4   ROADWAY_SURFACE_COND  5201 non-null   object        \n",
      " 5   STREET_DIRECTION      5201 non-null   object        \n",
      " 6   MOST_SEVERE_INJURY    5201 non-null   object        \n",
      " 7   CRASH_HOUR            5201 non-null   int64         \n",
      " 8   CRASH_DAY_OF_WEEK     5201 non-null   int64         \n",
      " 9   CRASH_MONTH           5201 non-null   int64         \n",
      "dtypes: datetime64[ns](1), int64(4), object(5)\n",
      "memory usage: 447.0+ KB\n"
     ]
    }
   ],
   "source": [
    "Cleaned_Crashes_data.info()"
   ]
  },
  {
   "cell_type": "code",
   "execution_count": 79,
   "id": "77074d8f-599e-48f4-9ab1-c658690eaa63",
   "metadata": {},
   "outputs": [
    {
     "data": {
      "text/plain": [
       "(5201, 10)"
      ]
     },
     "execution_count": 79,
     "metadata": {},
     "output_type": "execute_result"
    }
   ],
   "source": [
    "Cleaned_Crashes_data.shape"
   ]
  },
  {
   "cell_type": "markdown",
   "id": "aa86887e-6288-4c39-9deb-ea1faaa272de",
   "metadata": {},
   "source": [
    "After removing the invalid dates from the 'CRASH_DATE' columns, the 'Cleaned_Crashes_data' data frame has 5201 rows and 10 columns."
   ]
  },
  {
   "cell_type": "code",
   "execution_count": 80,
   "id": "94f208e7-68b8-4167-af30-cf1978312a1b",
   "metadata": {},
   "outputs": [
    {
     "data": {
      "text/html": [
       "<div>\n",
       "<style scoped>\n",
       "    .dataframe tbody tr th:only-of-type {\n",
       "        vertical-align: middle;\n",
       "    }\n",
       "\n",
       "    .dataframe tbody tr th {\n",
       "        vertical-align: top;\n",
       "    }\n",
       "\n",
       "    .dataframe thead th {\n",
       "        text-align: right;\n",
       "    }\n",
       "</style>\n",
       "<table border=\"1\" class=\"dataframe\">\n",
       "  <thead>\n",
       "    <tr style=\"text-align: right;\">\n",
       "      <th></th>\n",
       "      <th>CRASH_DATE</th>\n",
       "      <th>POSTED_SPEED_LIMIT</th>\n",
       "      <th>WEATHER_CONDITION</th>\n",
       "      <th>TRAFFICWAY_TYPE</th>\n",
       "      <th>ROADWAY_SURFACE_COND</th>\n",
       "      <th>STREET_DIRECTION</th>\n",
       "      <th>MOST_SEVERE_INJURY</th>\n",
       "      <th>CRASH_HOUR</th>\n",
       "      <th>CRASH_DAY_OF_WEEK</th>\n",
       "      <th>CRASH_MONTH</th>\n",
       "    </tr>\n",
       "  </thead>\n",
       "  <tbody>\n",
       "    <tr>\n",
       "      <th>0</th>\n",
       "      <td>2022-01-31</td>\n",
       "      <td>25</td>\n",
       "      <td>CLEAR</td>\n",
       "      <td>ONE-WAY</td>\n",
       "      <td>DRY</td>\n",
       "      <td>W</td>\n",
       "      <td>NO INDICATION OF INJURY</td>\n",
       "      <td>19</td>\n",
       "      <td>2</td>\n",
       "      <td>1</td>\n",
       "    </tr>\n",
       "    <tr>\n",
       "      <th>1</th>\n",
       "      <td>2022-01-01</td>\n",
       "      <td>10</td>\n",
       "      <td>SNOW</td>\n",
       "      <td>PARKING LOT</td>\n",
       "      <td>SNOW OR SLUSH</td>\n",
       "      <td>W</td>\n",
       "      <td>NO INDICATION OF INJURY</td>\n",
       "      <td>16</td>\n",
       "      <td>7</td>\n",
       "      <td>1</td>\n",
       "    </tr>\n",
       "    <tr>\n",
       "      <th>2</th>\n",
       "      <td>2022-01-30</td>\n",
       "      <td>25</td>\n",
       "      <td>CLEAR</td>\n",
       "      <td>ONE-WAY</td>\n",
       "      <td>SNOW OR SLUSH</td>\n",
       "      <td>W</td>\n",
       "      <td>NO INDICATION OF INJURY</td>\n",
       "      <td>8</td>\n",
       "      <td>1</td>\n",
       "      <td>1</td>\n",
       "    </tr>\n",
       "    <tr>\n",
       "      <th>3</th>\n",
       "      <td>2022-05-28</td>\n",
       "      <td>25</td>\n",
       "      <td>CLEAR</td>\n",
       "      <td>ONE-WAY</td>\n",
       "      <td>DRY</td>\n",
       "      <td>W</td>\n",
       "      <td>NO INDICATION OF INJURY</td>\n",
       "      <td>17</td>\n",
       "      <td>7</td>\n",
       "      <td>5</td>\n",
       "    </tr>\n",
       "    <tr>\n",
       "      <th>4</th>\n",
       "      <td>2022-04-16</td>\n",
       "      <td>10</td>\n",
       "      <td>CLEAR</td>\n",
       "      <td>PARKING LOT</td>\n",
       "      <td>DRY</td>\n",
       "      <td>W</td>\n",
       "      <td>NO INDICATION OF INJURY</td>\n",
       "      <td>11</td>\n",
       "      <td>7</td>\n",
       "      <td>4</td>\n",
       "    </tr>\n",
       "  </tbody>\n",
       "</table>\n",
       "</div>"
      ],
      "text/plain": [
       "  CRASH_DATE  POSTED_SPEED_LIMIT WEATHER_CONDITION TRAFFICWAY_TYPE  \\\n",
       "0 2022-01-31                  25             CLEAR         ONE-WAY   \n",
       "1 2022-01-01                  10              SNOW     PARKING LOT   \n",
       "2 2022-01-30                  25             CLEAR         ONE-WAY   \n",
       "3 2022-05-28                  25             CLEAR         ONE-WAY   \n",
       "4 2022-04-16                  10             CLEAR     PARKING LOT   \n",
       "\n",
       "  ROADWAY_SURFACE_COND STREET_DIRECTION       MOST_SEVERE_INJURY  CRASH_HOUR  \\\n",
       "0                  DRY                W  NO INDICATION OF INJURY          19   \n",
       "1        SNOW OR SLUSH                W  NO INDICATION OF INJURY          16   \n",
       "2        SNOW OR SLUSH                W  NO INDICATION OF INJURY           8   \n",
       "3                  DRY                W  NO INDICATION OF INJURY          17   \n",
       "4                  DRY                W  NO INDICATION OF INJURY          11   \n",
       "\n",
       "   CRASH_DAY_OF_WEEK  CRASH_MONTH  \n",
       "0                  2            1  \n",
       "1                  7            1  \n",
       "2                  1            1  \n",
       "3                  7            5  \n",
       "4                  7            4  "
      ]
     },
     "execution_count": 80,
     "metadata": {},
     "output_type": "execute_result"
    }
   ],
   "source": [
    "Cleaned_Crashes_data.head()"
   ]
  },
  {
   "cell_type": "markdown",
   "id": "2738ef38-bb1d-4167-8b30-9e3e3c5353af",
   "metadata": {},
   "source": [
    "Set up a new index 'CRASH_DATE' to the Cleaned_Crashes_data  "
   ]
  },
  {
   "cell_type": "code",
   "execution_count": 81,
   "id": "0143bf14-bb0a-4394-ab6a-9180b157be96",
   "metadata": {},
   "outputs": [],
   "source": [
    "# using .set_index() function to setup the index\n",
    "Newindex_set = Cleaned_Crashes_data.set_index('CRASH_DATE')"
   ]
  },
  {
   "cell_type": "code",
   "execution_count": 82,
   "id": "8eb8ef7f-814f-4c8e-852a-281d7822ff0d",
   "metadata": {},
   "outputs": [
    {
     "data": {
      "text/html": [
       "<div>\n",
       "<style scoped>\n",
       "    .dataframe tbody tr th:only-of-type {\n",
       "        vertical-align: middle;\n",
       "    }\n",
       "\n",
       "    .dataframe tbody tr th {\n",
       "        vertical-align: top;\n",
       "    }\n",
       "\n",
       "    .dataframe thead th {\n",
       "        text-align: right;\n",
       "    }\n",
       "</style>\n",
       "<table border=\"1\" class=\"dataframe\">\n",
       "  <thead>\n",
       "    <tr style=\"text-align: right;\">\n",
       "      <th></th>\n",
       "      <th>POSTED_SPEED_LIMIT</th>\n",
       "      <th>WEATHER_CONDITION</th>\n",
       "      <th>TRAFFICWAY_TYPE</th>\n",
       "      <th>ROADWAY_SURFACE_COND</th>\n",
       "      <th>STREET_DIRECTION</th>\n",
       "      <th>MOST_SEVERE_INJURY</th>\n",
       "      <th>CRASH_HOUR</th>\n",
       "      <th>CRASH_DAY_OF_WEEK</th>\n",
       "      <th>CRASH_MONTH</th>\n",
       "    </tr>\n",
       "    <tr>\n",
       "      <th>CRASH_DATE</th>\n",
       "      <th></th>\n",
       "      <th></th>\n",
       "      <th></th>\n",
       "      <th></th>\n",
       "      <th></th>\n",
       "      <th></th>\n",
       "      <th></th>\n",
       "      <th></th>\n",
       "      <th></th>\n",
       "    </tr>\n",
       "  </thead>\n",
       "  <tbody>\n",
       "    <tr>\n",
       "      <th>2022-01-31</th>\n",
       "      <td>25</td>\n",
       "      <td>CLEAR</td>\n",
       "      <td>ONE-WAY</td>\n",
       "      <td>DRY</td>\n",
       "      <td>W</td>\n",
       "      <td>NO INDICATION OF INJURY</td>\n",
       "      <td>19</td>\n",
       "      <td>2</td>\n",
       "      <td>1</td>\n",
       "    </tr>\n",
       "    <tr>\n",
       "      <th>2022-01-01</th>\n",
       "      <td>10</td>\n",
       "      <td>SNOW</td>\n",
       "      <td>PARKING LOT</td>\n",
       "      <td>SNOW OR SLUSH</td>\n",
       "      <td>W</td>\n",
       "      <td>NO INDICATION OF INJURY</td>\n",
       "      <td>16</td>\n",
       "      <td>7</td>\n",
       "      <td>1</td>\n",
       "    </tr>\n",
       "    <tr>\n",
       "      <th>2022-01-30</th>\n",
       "      <td>25</td>\n",
       "      <td>CLEAR</td>\n",
       "      <td>ONE-WAY</td>\n",
       "      <td>SNOW OR SLUSH</td>\n",
       "      <td>W</td>\n",
       "      <td>NO INDICATION OF INJURY</td>\n",
       "      <td>8</td>\n",
       "      <td>1</td>\n",
       "      <td>1</td>\n",
       "    </tr>\n",
       "    <tr>\n",
       "      <th>2022-05-28</th>\n",
       "      <td>25</td>\n",
       "      <td>CLEAR</td>\n",
       "      <td>ONE-WAY</td>\n",
       "      <td>DRY</td>\n",
       "      <td>W</td>\n",
       "      <td>NO INDICATION OF INJURY</td>\n",
       "      <td>17</td>\n",
       "      <td>7</td>\n",
       "      <td>5</td>\n",
       "    </tr>\n",
       "    <tr>\n",
       "      <th>2022-04-16</th>\n",
       "      <td>10</td>\n",
       "      <td>CLEAR</td>\n",
       "      <td>PARKING LOT</td>\n",
       "      <td>DRY</td>\n",
       "      <td>W</td>\n",
       "      <td>NO INDICATION OF INJURY</td>\n",
       "      <td>11</td>\n",
       "      <td>7</td>\n",
       "      <td>4</td>\n",
       "    </tr>\n",
       "  </tbody>\n",
       "</table>\n",
       "</div>"
      ],
      "text/plain": [
       "            POSTED_SPEED_LIMIT WEATHER_CONDITION TRAFFICWAY_TYPE  \\\n",
       "CRASH_DATE                                                         \n",
       "2022-01-31                  25             CLEAR         ONE-WAY   \n",
       "2022-01-01                  10              SNOW     PARKING LOT   \n",
       "2022-01-30                  25             CLEAR         ONE-WAY   \n",
       "2022-05-28                  25             CLEAR         ONE-WAY   \n",
       "2022-04-16                  10             CLEAR     PARKING LOT   \n",
       "\n",
       "           ROADWAY_SURFACE_COND STREET_DIRECTION       MOST_SEVERE_INJURY  \\\n",
       "CRASH_DATE                                                                  \n",
       "2022-01-31                  DRY                W  NO INDICATION OF INJURY   \n",
       "2022-01-01        SNOW OR SLUSH                W  NO INDICATION OF INJURY   \n",
       "2022-01-30        SNOW OR SLUSH                W  NO INDICATION OF INJURY   \n",
       "2022-05-28                  DRY                W  NO INDICATION OF INJURY   \n",
       "2022-04-16                  DRY                W  NO INDICATION OF INJURY   \n",
       "\n",
       "            CRASH_HOUR  CRASH_DAY_OF_WEEK  CRASH_MONTH  \n",
       "CRASH_DATE                                              \n",
       "2022-01-31          19                  2            1  \n",
       "2022-01-01          16                  7            1  \n",
       "2022-01-30           8                  1            1  \n",
       "2022-05-28          17                  7            5  \n",
       "2022-04-16          11                  7            4  "
      ]
     },
     "execution_count": 82,
     "metadata": {},
     "output_type": "execute_result"
    }
   ],
   "source": [
    "# To see the sample \n",
    "Newindex_set.head()"
   ]
  },
  {
   "cell_type": "markdown",
   "id": "0da24da7-c366-4118-a6c3-2a8d992b0d52",
   "metadata": {},
   "source": []
  },
  {
   "cell_type": "markdown",
   "id": "0720fa93-b54f-4310-a4e3-3334e7c6f26c",
   "metadata": {},
   "source": [
    "'CRASH_DATE' sort by the 'POSTED_SPEED_LIMIT' values in a ascending order, using .sort_values() function."
   ]
  },
  {
   "cell_type": "code",
   "execution_count": 83,
   "id": "ef92ce65-148d-4bf5-a3b8-46676ef6ff21",
   "metadata": {},
   "outputs": [
    {
     "data": {
      "text/plain": [
       "CRASH_DATE\n",
       "2022-04-08    60\n",
       "2022-03-21    55\n",
       "2022-02-17    55\n",
       "2022-01-09    55\n",
       "2022-03-22    55\n",
       "Name: POSTED_SPEED_LIMIT, dtype: int64"
      ]
     },
     "execution_count": 83,
     "metadata": {},
     "output_type": "execute_result"
    }
   ],
   "source": [
    "#sorting dates using .sort_values()function\n",
    "Newindex_set.POSTED_SPEED_LIMIT.sort_values(ascending=False).head()"
   ]
  },
  {
   "cell_type": "code",
   "execution_count": 84,
   "id": "8abaeab1-056a-4225-bcd2-1df1da36c520",
   "metadata": {},
   "outputs": [
    {
     "data": {
      "text/plain": [
       "CRASH_DATE\n",
       "2022-03-26    7\n",
       "2022-02-26    7\n",
       "2022-01-22    7\n",
       "2022-03-19    7\n",
       "2022-03-19    7\n",
       "Name: CRASH_DAY_OF_WEEK, dtype: int64"
      ]
     },
     "execution_count": 84,
     "metadata": {},
     "output_type": "execute_result"
    }
   ],
   "source": [
    "Newindex_set.CRASH_DAY_OF_WEEK.sort_values(ascending=False).head()"
   ]
  },
  {
   "cell_type": "code",
   "execution_count": 85,
   "id": "fe5449f0-fa2e-4038-9581-668b97813a91",
   "metadata": {},
   "outputs": [
    {
     "data": {
      "text/plain": [
       "CRASH_DATE\n",
       "2022-01-31    1\n",
       "2022-01-10    1\n",
       "2022-01-06    1\n",
       "2022-01-21    1\n",
       "2022-01-09    1\n",
       "Name: CRASH_MONTH, dtype: int64"
      ]
     },
     "execution_count": 85,
     "metadata": {},
     "output_type": "execute_result"
    }
   ],
   "source": [
    "Newindex_set.CRASH_MONTH.sort_values().head()"
   ]
  },
  {
   "cell_type": "markdown",
   "id": "dc931aad-60aa-46a4-be21-345c65887d38",
   "metadata": {},
   "source": []
  },
  {
   "cell_type": "markdown",
   "id": "a05378a8-c684-427e-b0f7-1b9e538fbf5c",
   "metadata": {},
   "source": [
    "Visualization: \n",
    "To visualize the relationship between the data, Plotting "
   ]
  },
  {
   "cell_type": "code",
   "execution_count": 86,
   "id": "7ec558a6-e1b4-4599-9bd4-815f54092254",
   "metadata": {},
   "outputs": [
    {
     "data": {
      "image/png": "[encoded data removed]",
      "text/plain": [
       "<Figure size 640x480 with 1 Axes>"
      ]
     },
     "metadata": {},
     "output_type": "display_data"
    }
   ],
   "source": [
    "# making plots using .hist()method\n",
    "Newindex_set.MOST_SEVERE_INJURY.hist(bins=10)\n",
    "plt.xlabel('CRASH_DATE')\n",
    "plt.ylabel('POSTED_SPEED_LIMIT');"
   ]
  },
  {
   "cell_type": "code",
   "execution_count": 87,
   "id": "08a1088d-fb24-44f3-877a-a87cb10b5763",
   "metadata": {},
   "outputs": [
    {
     "data": {
      "image/png": "[encoded data removed]",
      "text/plain": [
       "<Figure size 640x480 with 1 Axes>"
      ]
     },
     "metadata": {},
     "output_type": "display_data"
    }
   ],
   "source": [
    "Newindex_set.MOST_SEVERE_INJURY.hist(bins=20)\n",
    "plt.xlabel('WEATHER_CONDITION')\n",
    "plt.ylabel('ROADWAY_SURFACE_COND');"
   ]
  },
  {
   "cell_type": "code",
   "execution_count": 88,
   "id": "9b19ee33-cf9e-4a35-bb52-da854630c735",
   "metadata": {},
   "outputs": [
    {
     "data": {
      "image/png": "[encoded data removed]",
      "text/plain": [
       "<Figure size 640x480 with 1 Axes>"
      ]
     },
     "metadata": {},
     "output_type": "display_data"
    }
   ],
   "source": [
    "# Histogram for CRASH MONTH\n",
    "plt.hist(Newindex_set['CRASH_MONTH'], bins=12, color='skyblue', edgecolor='black')\n",
    "plt.title('Histogram of Crash Month')\n",
    "plt.xlabel('CRASH_MONTH')\n",
    "plt.ylabel('Frequency')\n",
    "plt.show()"
   ]
  },
  {
   "cell_type": "markdown",
   "id": "3af003e5-2e08-4406-bf2c-249dcf90d4f5",
   "metadata": {},
   "source": [
    "According to this above histogram, May month had more car crashes compare to all other months in this dataframe."
   ]
  },
  {
   "cell_type": "markdown",
   "id": "d3c65a80-c492-4b2d-93dc-7332d7d74aac",
   "metadata": {},
   "source": []
  },
  {
   "cell_type": "code",
   "execution_count": 89,
   "id": "dd7bf348-b08e-4dca-a7f1-825e82d69410",
   "metadata": {},
   "outputs": [
    {
     "data": {
      "image/png": "[encoded data removed]",
      "text/plain": [
       "<Figure size 640x480 with 1 Axes>"
      ]
     },
     "metadata": {},
     "output_type": "display_data"
    }
   ],
   "source": [
    "# Histogram for CRASH_DAY_OF_WEEK\n",
    "plt.hist(Newindex_set['CRASH_DAY_OF_WEEK'], bins=12, color='skyblue', edgecolor='black')\n",
    "plt.title('Histogram of Crash Month')\n",
    "plt.xlabel('CRASH_DAY_OF_WEEK')\n",
    "plt.ylabel('Frequency')\n",
    "plt.show()"
   ]
  },
  {
   "cell_type": "markdown",
   "id": "57f3dba9-cdca-4d8d-840d-729ef87c027e",
   "metadata": {},
   "source": [
    "According to this histogram 6th and 7th days of the week had more car crashes compared to all other days of the week"
   ]
  },
  {
   "cell_type": "markdown",
   "id": "23206fb6-8112-4a2f-a990-8680a857dcde",
   "metadata": {},
   "source": []
  },
  {
   "cell_type": "markdown",
   "id": "2d538615-79ea-43bb-aac5-818ddbf4ed1a",
   "metadata": {},
   "source": [
    "Mean and Standard Deviation for the Numerical columns.\n",
    "There are three Numerical columns in this data frame: 'CRASH_DAY_OF_WEEK', 'CRASH_MONTH', POSTED_SPEED_LIMIT'"
   ]
  },
  {
   "cell_type": "markdown",
   "id": "c8d83984-a70d-4969-b68e-774f8e971252",
   "metadata": {},
   "source": []
  },
  {
   "cell_type": "code",
   "execution_count": 90,
   "id": "5447b0d5-76df-4977-946b-85fc470bf7fc",
   "metadata": {},
   "outputs": [
    {
     "name": "stdout",
     "output_type": "stream",
     "text": [
      "1.9752481460913998\n"
     ]
    }
   ],
   "source": [
    "#std for 'CRASH_DAY_OF_WEEK'\n",
    "std_days = Newindex_set['CRASH_DAY_OF_WEEK'].std()\n",
    "print(std_days)"
   ]
  },
  {
   "cell_type": "code",
   "execution_count": 91,
   "id": "977b7674-2340-42e1-85f4-367063256c60",
   "metadata": {},
   "outputs": [
    {
     "name": "stdout",
     "output_type": "stream",
     "text": [
      "4.17900403768506\n"
     ]
    }
   ],
   "source": [
    "# mean for 'CRASH_DAY_OF_WEEK'\n",
    "mean_days = Newindex_set['CRASH_DAY_OF_WEEK'].mean()\n",
    "print(mean_days)"
   ]
  },
  {
   "cell_type": "code",
   "execution_count": 92,
   "id": "2ee9a9bd-9fc0-42b2-8fdc-fda6d80aec42",
   "metadata": {},
   "outputs": [
    {
     "name": "stdout",
     "output_type": "stream",
     "text": [
      "1.4333329865122237\n"
     ]
    }
   ],
   "source": [
    "# std for 'CRASH_MONTH'\n",
    "std_months = Newindex_set['CRASH_MONTH'].std()\n",
    "print(std_months)"
   ]
  },
  {
   "cell_type": "code",
   "execution_count": 93,
   "id": "4b19cd04-04b5-41d7-9b81-84e31207aa3a",
   "metadata": {},
   "outputs": [
    {
     "name": "stdout",
     "output_type": "stream",
     "text": [
      "3.071909248221496\n"
     ]
    }
   ],
   "source": [
    "# mean for 'CRASH_MONTH'\n",
    "mean_months = Newindex_set['CRASH_MONTH'].mean()\n",
    "print(mean_months)"
   ]
  },
  {
   "cell_type": "code",
   "execution_count": 94,
   "id": "538ca5f2-5d68-4958-a86f-304b87a9f8de",
   "metadata": {},
   "outputs": [
    {
     "name": "stdout",
     "output_type": "stream",
     "text": [
      "6.302994620719741\n"
     ]
    }
   ],
   "source": [
    "# std for 'POSTED_SPEED_LIMIT'\n",
    "std_speed = Newindex_set['POSTED_SPEED_LIMIT'].std()\n",
    "print(std_speed)"
   ]
  },
  {
   "cell_type": "code",
   "execution_count": 95,
   "id": "8e97e672-2638-4212-a955-51615532b31b",
   "metadata": {},
   "outputs": [
    {
     "name": "stdout",
     "output_type": "stream",
     "text": [
      "28.15362430301865\n"
     ]
    }
   ],
   "source": [
    "# mean for 'POSTED_SPEED_LIMIT'\n",
    "mean_speed = Newindex_set['POSTED_SPEED_LIMIT'].mean()\n",
    "print(mean_speed)"
   ]
  },
  {
   "cell_type": "code",
   "execution_count": null,
   "id": "abb0ce63-daa2-4b74-96c7-924fd65e6cad",
   "metadata": {},
   "outputs": [],
   "source": []
  },
  {
   "cell_type": "code",
   "execution_count": null,
   "id": "70be9f48-bd53-44e1-9d42-d442fee1b6ad",
   "metadata": {},
   "outputs": [],
   "source": [
    "Calculate the PCA transformation:\n",
    "Fit the PCA transformation using the scaled data."
   ]
  },
  {
   "cell_type": "code",
   "execution_count": 96,
   "id": "56872af7-11de-437a-9b4f-a8117f171b1f",
   "metadata": {},
   "outputs": [],
   "source": [
    "# Scaling numerical columns\n",
    "Crash_num_columns = ['CRASH_HOUR', 'CRASH_DAY_OF_WEEK',\t'CRASH_MONTH'] \n",
    "\n"
   ]
  },
  {
   "cell_type": "code",
   "execution_count": 97,
   "id": "a634b019-3648-4983-ac47-891a47f49a69",
   "metadata": {},
   "outputs": [],
   "source": [
    "# Scale the data using fit_transform function\n",
    "scaler = StandardScaler()\n",
    "data_scaled = scaler.fit_transform(Newindex_set[Crash_num_columns])\n",
    "\n"
   ]
  },
  {
   "cell_type": "code",
   "execution_count": 100,
   "id": "fc3c74bd-4c4b-4347-b3f2-939e376d3ab9",
   "metadata": {},
   "outputs": [
    {
     "name": "stdout",
     "output_type": "stream",
     "text": [
      "[[ 1.06461514 -1.10326065 -1.44565742]\n",
      " [ 0.53205158  1.42831026 -1.44565742]\n",
      " [-0.88811791 -1.60957483 -1.44565742]\n",
      " ...\n",
      " [-0.35555435 -0.09063228 -1.44565742]\n",
      " [-1.77572385 -1.60957483 -0.74791575]\n",
      " [ 0.70957276  0.4156819  -0.05017408]]\n"
     ]
    }
   ],
   "source": [
    "# Apply PCA\n",
    "pca = PCA()\n",
    "pca.fit(data_scaled)\n",
    "\n",
    "print(data_scaled)\n"
   ]
  },
  {
   "cell_type": "code",
   "execution_count": 101,
   "id": "e6fb68c5-4a08-4316-aff2-320039e006cc",
   "metadata": {},
   "outputs": [
    {
     "data": {
      "text/plain": [
       "(5201, 3)"
      ]
     },
     "execution_count": 101,
     "metadata": {},
     "output_type": "execute_result"
    }
   ],
   "source": [
    "data_scaled.shape"
   ]
  },
  {
   "cell_type": "code",
   "execution_count": 102,
   "id": "2054aef9-a289-4a2e-a6cf-93f35a92b666",
   "metadata": {},
   "outputs": [
    {
     "name": "stdout",
     "output_type": "stream",
     "text": [
      "1.064615137411154\n"
     ]
    }
   ],
   "source": [
    "print(data_scaled[0, 0])"
   ]
  },
  {
   "cell_type": "code",
   "execution_count": 103,
   "id": "59579501-09c3-4fe1-a5ae-52d8a6f2f3db",
   "metadata": {},
   "outputs": [],
   "source": [
    "Crash_analyzed = Newindex_set"
   ]
  },
  {
   "cell_type": "code",
   "execution_count": 104,
   "id": "f379a0cc-9d45-49b6-929e-fcbefdba8df0",
   "metadata": {},
   "outputs": [
    {
     "data": {
      "text/plain": [
       "(5201, 9)"
      ]
     },
     "execution_count": 104,
     "metadata": {},
     "output_type": "execute_result"
    }
   ],
   "source": [
    "Crash_analyzed.shape"
   ]
  },
  {
   "cell_type": "markdown",
   "id": "3fcd1c23-73bd-49f3-999f-5dea08b2e979",
   "metadata": {},
   "source": [
    "Data Saving: Data saving is the final step in this EDA process. Save this cleaned data in the 'datapath' using the .to_csv method from pandas."
   ]
  },
  {
   "cell_type": "code",
   "execution_count": 105,
   "id": "390f01db-f37d-4064-aa1f-57b5652cc742",
   "metadata": {},
   "outputs": [],
   "source": [
    "datapath = Crash_analyzed.to_csv('Crash_analyzed.csv', index=False)"
   ]
  },
  {
   "cell_type": "code",
   "execution_count": null,
   "id": "bfa300f6-2741-4199-a3e9-1d0632b9aa7c",
   "metadata": {},
   "outputs": [],
   "source": []
  },
  {
   "cell_type": "code",
   "execution_count": null,
   "id": "9e2ff924-c258-4192-bc19-eeddd8da5edb",
   "metadata": {},
   "outputs": [],
   "source": []
  }
 ],
 "metadata": {
  "kernelspec": {
   "display_name": "Python 3 (ipykernel)",
   "language": "python",
   "name": "python3"
  },
  "language_info": {
   "codemirror_mode": {
    "name": "ipython",
    "version": 3
   },
   "file_extension": ".py",
   "mimetype": "text/x-python",
   "name": "python",
   "nbconvert_exporter": "python",
   "pygments_lexer": "ipython3",
   "version": "3.11.7"
  }
 },
 "nbformat": 4,
 "nbformat_minor": 5
}
